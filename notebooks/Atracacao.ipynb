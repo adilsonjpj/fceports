{
 "cells": [
  {
   "cell_type": "markdown",
   "metadata": {},
   "source": [
    "# Esforços gerados na Atracação"
   ]
  },
  {
   "cell_type": "markdown",
   "metadata": {},
   "source": [
    "\n",
    "$\n",
    "d_B = d_L \\cdot \\frac{M_D \\cdot DWT}{M_D}\n",
    "$\n",
    "\n",
    "$\n",
    "d_B = 2 + 0,02 \\cdot L_{OA}\n",
    "$"
   ]
  },
  {
   "cell_type": "markdown",
   "metadata": {},
   "source": [
    "## Atracação"
   ]
  },
  {
   "cell_type": "markdown",
   "metadata": {},
   "source": [
    "### Energia cinética na estrutura\n",
    "PIANC 2002\n",
    "\n",
    "$\n",
    "E_n = 0,5 \\cdot M_D \\cdot V_a^2 \\cdot C_m \\cdot C_e \\cdot C_s \\cdot C_c\n",
    "$\n",
    "\n",
    "$E_n$ é a energia cinética característica nominal; \n",
    "$M_D$ é o deslocamento da embarcação;\n",
    "$V_a$ é a velocidade de atracação perpendicular a linha de atracação;\n",
    "$C_m$ é o coeficiente adicional de massa;\n",
    "$C_e$ é o coeficiente de excentricidade;\n",
    "$C_s$ é o coeficiente de rigidez;\n",
    "$C_c$ é o coeficiente de configuração do cais.\n",
    "\n",
    "\n",
    "$\n",
    "C_E = \\frac{k^2 + (R^2 \\cdot \\cos^2(\\gamma))}{k^2 + R^2}\n",
    "$\n",
    "\n",
    "$\n",
    "k = (0,19 \\cdot C_B + 0,11) \\cdot L_{BP}\n",
    "$\n",
    "\n",
    "$\n",
    "R = \\sqrt{ \\left ( \\frac{L_{BP}}{2} - x \\right ) ^{2} + \\left ( \\frac{B}{2} \\right ) ^{2} }\n",
    "$\n",
    "\n",
    "$\n",
    "\\gamma = 90º - \\alpha - \\sin^{-1} \\left ( \\frac{B}{2 \\cdot R} \\right )\n",
    "$"
   ]
  },
  {
   "cell_type": "markdown",
   "metadata": {},
   "source": [
    "## Ventos e Correntes na Embarcação"
   ]
  },
  {
   "cell_type": "markdown",
   "metadata": {},
   "source": [
    "### Força exercida pelo fluido\n",
    "\n",
    "$\n",
    "F = C_f \\cdot 0,5 \\cdot \\rho \\cdot v^2 \\cdot A\n",
    "$\n",
    "\n",
    "\n",
    "### Força exercida pelo AR\n",
    "BSI - 6349\n",
    "\n",
    "$F_{TW}$ é a força transversal do vento (kN)\n",
    "\n",
    "$\n",
    "F_{TW} = C_{TW} \\cdot \\rho_{A} \\cdot A_L \\cdot V_w^2 \\cdot 10^{-4}\n",
    "$\n",
    "\n",
    "$F_{LW}$ é a força longitudinal do vento (kN)\n",
    "\n",
    "$\n",
    "F_{LW} = C_{LW} \\cdot \\rho_{A} \\cdot A_L \\cdot V_w^2 \\cdot 10^{-4}\n",
    "$\n",
    "\n",
    "\n",
    "### Força exercida pela CORRENTE\n",
    "BSI - 6349\n",
    "\n",
    "$F_{TC}$ é a força transversal da corrente (kN)\n",
    "\n",
    "$\n",
    "F_{TC} = C_{TC} \\cdot C_{CT} \\cdot \\rho \\cdot L_{BP} \\cdot d_{m} \\cdot V_c^2 \\cdot 10^{-4}\n",
    "$\n",
    "\n",
    "$F_{LC}$ é a força longitudinal da corrente (kN)\n",
    "\n",
    "$\n",
    "F_{LC} = C_{LC} \\cdot C_{CL} \\cdot \\rho \\cdot L_{BP} \\cdot d_{m} \\cdot V_c^2 \\cdot 10^{-4}\n",
    "$\n"
   ]
  },
  {
   "cell_type": "markdown",
   "metadata": {},
   "source": [
    "## Implementação"
   ]
  },
  {
   "cell_type": "code",
   "execution_count": null,
   "metadata": {},
   "outputs": [],
   "source": [
    "# Pythonito"
   ]
  }
 ],
 "metadata": {
  "kernelspec": {
   "display_name": "Python 3.9.12 ('base')",
   "language": "python",
   "name": "python3"
  },
  "language_info": {
   "name": "python",
   "version": "3.9.12"
  },
  "orig_nbformat": 4,
  "vscode": {
   "interpreter": {
    "hash": "db246930cef325bdafb275d3b0ca02e2458ca741bddd452e92134387fde1c877"
   }
  }
 },
 "nbformat": 4,
 "nbformat_minor": 2
}
