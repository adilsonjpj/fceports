{
 "cells": [
  {
   "cell_type": "markdown",
   "id": "cee498c2-316e-4ada-83fb-f3198b442d04",
   "metadata": {},
   "source": [
    "# Forças exercidas pelas Correntes"
   ]
  },
  {
   "cell_type": "markdown",
   "id": "c504ac0f-b0e9-4056-af72-1f9c011fc5b6",
   "metadata": {
    "tags": []
   },
   "source": [
    "## Estacas"
   ]
  },
  {
   "cell_type": "markdown",
   "id": "9ae7c2e7",
   "metadata": {},
   "source": [
    "\n",
    "$\n",
    "L = C_k \\cdot 0,5 \\cdot \\rho \\cdot U_o^2 \\cdot D \\cdot \\sin(2 \\cdot \\pi \\cdot f_k \\cdot t)\n",
    "$"
   ]
  },
  {
   "cell_type": "markdown",
   "id": "87495f3e",
   "metadata": {},
   "source": [
    "### Implementação"
   ]
  },
  {
   "cell_type": "code",
   "execution_count": null,
   "id": "e62a20a7",
   "metadata": {},
   "outputs": [],
   "source": [
    "# Python"
   ]
  },
  {
   "cell_type": "markdown",
   "id": "87495f3e",
   "metadata": {},
   "source": [
    "### Exemplos"
   ]
  },
  {
   "cell_type": "code",
   "execution_count": null,
   "id": "335d7ed7",
   "metadata": {},
   "outputs": [],
   "source": [
    "# Python"
   ]
  },
  {
   "cell_type": "markdown",
   "id": "c504ac0f-b0e9-4056-af72-1f9c011fc5b6",
   "metadata": {
    "tags": []
   },
   "source": [
    "## Obstáculos"
   ]
  },
  {
   "cell_type": "markdown",
   "id": "9ae7c2e7",
   "metadata": {},
   "source": [
    "$\n",
    "F_D = 0,5 \\cdot C_D \\cdot \\rho \\cdot U_o^2 \\cdot D\n",
    "$"
   ]
  },
  {
   "cell_type": "markdown",
   "id": "87495f3e",
   "metadata": {},
   "source": [
    "### Implementação"
   ]
  },
  {
   "cell_type": "code",
   "execution_count": null,
   "id": "bcee7553",
   "metadata": {},
   "outputs": [
    {
     "ename": "",
     "evalue": "",
     "output_type": "error",
     "traceback": [
      "\u001b[1;31mA execução de células com \"Python 3.9.12 ('base')\" requer o pacote ipykernel.\n",
      "\u001b[1;31mExecute o seguinte comando para instalar \"ipykernel\" no ambiente do Python. \n",
      "\u001b[1;31mComando: \"conda install -n base ipykernel --update-deps --force-reinstall\""
     ]
    }
   ],
   "source": [
    "# Python"
   ]
  },
  {
   "cell_type": "markdown",
   "id": "87495f3e",
   "metadata": {},
   "source": [
    "### Exemplos"
   ]
  },
  {
   "cell_type": "code",
   "execution_count": null,
   "id": "24dd825f",
   "metadata": {},
   "outputs": [],
   "source": [
    "# Python"
   ]
  }
 ],
 "metadata": {
  "kernelspec": {
   "display_name": "Python 3.9.12 ('base')",
   "language": "python",
   "name": "python3"
  },
  "language_info": {
   "codemirror_mode": {
    "name": "ipython",
    "version": 3
   },
   "file_extension": ".py",
   "mimetype": "text/x-python",
   "name": "python",
   "nbconvert_exporter": "python",
   "pygments_lexer": "ipython3",
   "version": "3.9.12"
  },
  "vscode": {
   "interpreter": {
    "hash": "db246930cef325bdafb275d3b0ca02e2458ca741bddd452e92134387fde1c877"
   }
  }
 },
 "nbformat": 4,
 "nbformat_minor": 5
}
