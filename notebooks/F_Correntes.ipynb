{
 "cells": [
  {
   "cell_type": "markdown",
   "id": "cee498c2-316e-4ada-83fb-f3198b442d04",
   "metadata": {},
   "source": [
    "# Forças exercidas pelas Correntes"
   ]
  },
  {
   "cell_type": "markdown",
   "id": "7f6de674",
   "metadata": {},
   "source": [
    "### Reynolds\n",
    "\n",
    "$\n",
    "R_e = \\frac{U_o \\cdot D}{\\nu}\n",
    "$\n",
    "\n",
    "Onde $R_e$ é o número de Reynolds, $U_o$ a velocidade básica de um fluido, $D$ o diâmetro do elemento e $\\nu$ a viscosidade cinemática.\n",
    "\n",
    "### Frequência dos vórtices de Von Karmann\n",
    "\n",
    "#### Strouhal\n",
    "\n",
    "$\n",
    "S = \\frac{f_k \\cdot D}{U_o}\n",
    "$\n",
    "\n",
    "$\n",
    "S \\approx 0,2\n",
    "$\n",
    "\n",
    "#### Velocidade Crítica\n",
    "\n",
    "$\n",
    "V_{crit} = k \\cdot f_n \\cdot D\n",
    "$\n",
    "\n",
    "Na qual $f_n$ é a frequência natural do cilindro, $D$ o diâmetro do cilindro e $k$ uma constante de acordo com a etapa do escoamento.\n"
   ]
  },
  {
   "cell_type": "markdown",
   "id": "c504ac0f-b0e9-4056-af72-1f9c011fc5b6",
   "metadata": {
    "tags": []
   },
   "source": [
    "## Estacas"
   ]
  },
  {
   "cell_type": "markdown",
   "id": "9ae7c2e7",
   "metadata": {},
   "source": [
    "$\n",
    "F_D = 0,5 \\cdot C_D \\cdot \\rho \\cdot U_o^2 \\cdot D\n",
    "$\n",
    "\n",
    "Na qual, $F_D$ é a força, $C_D$ o coeficiente de arrasto, $\\rho$ a massa específica do fluido, $U_o$ a velocidade básica e $D$ o diâmetro do cilindro\n",
    "\n",
    "\n",
    "#### Impulso Lateral\n",
    "\n",
    "$\n",
    "L = C_k \\cdot 0,5 \\cdot \\rho \\cdot U_o^2 \\cdot D \\cdot \\sin(2 \\cdot \\pi \\cdot f_k \\cdot t)\n",
    "$\n",
    "\n",
    "Na qual, \n",
    "\n",
    "#### Coef. de Amortecimento\n",
    "\n",
    "$$\n",
    "C_A = \\frac{2 \\cdot \\bar{m} \\cdot \\Delta}{\\rho \\cdot D^2}\n",
    "$$\n",
    "\n",
    "#### Massa efetiva\n",
    "\n",
    "$$\n",
    "\\bar{m} = \\frac{\\int_{0}^{L} m_L \\cdot (y(x))^2 \\,dx}{\\int_{0}^{l} (y(x))^2 \\,dx}\n",
    "$$\n",
    "\n",
    "#### Freq. Natural\n",
    "\n",
    "$$\n",
    "f_n = \\frac{k}{l^2} \\cdot \\sqrt{\\frac{E \\cdot I}{\\bar{m}}}\n",
    "$$"
   ]
  },
  {
   "cell_type": "markdown",
   "id": "87495f3e",
   "metadata": {},
   "source": [
    "### Implementação"
   ]
  },
  {
   "cell_type": "code",
   "execution_count": null,
   "id": "e62a20a7",
   "metadata": {},
   "outputs": [],
   "source": [
    "def solver_reynolds(\n",
    "    v=1, \n",
    "    Re = sym.Symbol('Re'), \n",
    "    Uo = sym.Symbol('Uo'),\n",
    "    D= sym.Symbol('D'),\n",
    "    viscosidade_cinematica = sym.Symbol('𝜈')):\n",
    "    return(sym.solvers.nsolve(\n",
    "        ((Uo * D)/viscosidade_cinematica) - Re\n",
    "        , v\n",
    "    ))\n",
    "\n",
    "def solver_strouhal(\n",
    "    v=1, \n",
    "    S = sym.Symbol('S'), \n",
    "    fk = sym.Symbol('fk'),\n",
    "    D = sym.Symbol('D'),\n",
    "    Uo = sym.Symbol('Uo')):\n",
    "    return(sym.solvers.nsolve(\n",
    "        ((fk * D)/Uo) - S\n",
    "        , v\n",
    "    ))\n",
    "\n",
    "def solver_forca_corrente_estaca(\n",
    "    v=1, \n",
    "    FD = sym.Symbol('FD'), \n",
    "    CD = sym.Symbol('CD'),\n",
    "    rho= sym.Symbol('𝜌'),\n",
    "    Uo= sym.Symbol('Uo'),\n",
    "    D = sym.Symbol('D')):\n",
    "    return(sym.solvers.nsolve(\n",
    "        (0.5*CD*rho*(Uo**2)*D) - FD\n",
    "        , v\n",
    "    ))\n",
    "\n",
    "def solver_impulso_lateral(\n",
    "    v=1, \n",
    "    L = sym.Symbol('L'), \n",
    "    Ck = sym.Symbol('Ck'), \n",
    "    rho = sym.Symbol('𝜌'), \n",
    "    Uo = sym.Symbol('Uo'), \n",
    "    D = sym.Symbol('D'), \n",
    "    fk = sym.Symbol('fk'),\n",
    "    t = sym.Symbol('t')):\n",
    "    return(sym.solvers.nsolve(\n",
    "        ( Ck * 0.5 * rho * (Uo**2) * D * sym.sin(2 * sym.pi * fk * t) ) - L\n",
    "        , v\n",
    "    ))\n",
    "\n",
    "def solver_coeficiente_amortecimento(\n",
    "    v=1, \n",
    "    CA = sym.Symbol('CA'), \n",
    "    m = sym.Symbol('m'),\n",
    "    delta= sym.Symbol('Δ'),\n",
    "    rho = sym.Symbol('𝜌'),\n",
    "    D = sym.Symbol('D')):\n",
    "    return(sym.solvers.nsolve(\n",
    "        ((2 * m * delta)/(rho * (D**2))) - CA\n",
    "        , v\n",
    "    ))\n",
    "\n",
    "def solver_velocidade_critica(\n",
    "    v=1, \n",
    "    Vcrit = sym.Symbol('Vcrit'), \n",
    "    k = sym.Symbol('k'),\n",
    "    fn = sym.Symbol('fn'),\n",
    "    D = sym.Symbol('D')):\n",
    "    return(sym.solvers.nsolve(\n",
    "        (k * fn * D) - Vcrit\n",
    "        , v\n",
    "    ))\n",
    "\n",
    "### INTEGRAL COMO FAZER? MASSA EFETIVA\n",
    "def solver_massa_efetiva(\n",
    "    v=1, \n",
    "    m = sym.Symbol('Vcrit'), \n",
    "    k = sym.Symbol('k'),\n",
    "    fn = sym.Symbol('fn'),\n",
    "    D = sym.Symbol('D')):\n",
    "    return(sym.solvers.nsolve(\n",
    "        (k * fn * D) - m\n",
    "        , v\n",
    "    ))\n",
    "\n",
    "def solver_frequencia_natural(\n",
    "    v=1, \n",
    "    fn = sym.Symbol('fn'),\n",
    "    k = sym.Symbol('k'),\n",
    "    l = sym.Symbol('l'),\n",
    "    E = sym.Symbol('E'),\n",
    "    I = sym.Symbol('I'),\n",
    "    m = sym.Symbol('m')):\n",
    "    return(sym.solvers.nsolve(\n",
    "        ( (k/(l**2)) * sym.sqrt((E*I)/m) ) - fn\n",
    "        , v\n",
    "    ))"
   ]
  },
  {
   "cell_type": "markdown",
   "id": "87495f3e",
   "metadata": {},
   "source": [
    "### Exemplos"
   ]
  },
  {
   "cell_type": "code",
   "execution_count": null,
   "id": "335d7ed7",
   "metadata": {},
   "outputs": [],
   "source": [
    "# Python"
   ]
  },
  {
   "cell_type": "markdown",
   "id": "c504ac0f-b0e9-4056-af72-1f9c011fc5b6",
   "metadata": {
    "tags": []
   },
   "source": [
    "## Obstáculos"
   ]
  },
  {
   "cell_type": "markdown",
   "id": "9ae7c2e7",
   "metadata": {},
   "source": []
  },
  {
   "cell_type": "markdown",
   "id": "87495f3e",
   "metadata": {},
   "source": [
    "### Implementação"
   ]
  },
  {
   "cell_type": "code",
   "execution_count": null,
   "id": "bcee7553",
   "metadata": {},
   "outputs": [
    {
     "ename": "",
     "evalue": "",
     "output_type": "error",
     "traceback": [
      "\u001b[1;31mA execução de células com \"Python 3.9.12 ('base')\" requer o pacote ipykernel.\n",
      "\u001b[1;31mExecute o seguinte comando para instalar \"ipykernel\" no ambiente do Python. \n",
      "\u001b[1;31mComando: \"conda install -n base ipykernel --update-deps --force-reinstall\""
     ]
    }
   ],
   "source": [
    "# Python"
   ]
  },
  {
   "cell_type": "markdown",
   "id": "87495f3e",
   "metadata": {},
   "source": [
    "### Exemplos"
   ]
  },
  {
   "cell_type": "code",
   "execution_count": null,
   "id": "24dd825f",
   "metadata": {},
   "outputs": [],
   "source": [
    "# Python"
   ]
  }
 ],
 "metadata": {
  "kernelspec": {
   "display_name": "Python 3.9.12 ('base')",
   "language": "python",
   "name": "python3"
  },
  "language_info": {
   "codemirror_mode": {
    "name": "ipython",
    "version": 3
   },
   "file_extension": ".py",
   "mimetype": "text/x-python",
   "name": "python",
   "nbconvert_exporter": "python",
   "pygments_lexer": "ipython3",
   "version": "3.9.12"
  },
  "vscode": {
   "interpreter": {
    "hash": "db246930cef325bdafb275d3b0ca02e2458ca741bddd452e92134387fde1c877"
   }
  }
 },
 "nbformat": 4,
 "nbformat_minor": 5
}
