{
 "cells": [
  {
   "cell_type": "markdown",
   "metadata": {},
   "source": [
    "# Sistemas de Defensas"
   ]
  },
  {
   "cell_type": "markdown",
   "metadata": {},
   "source": [
    "## Dimensionamento\n",
    "\n",
    "##### PIANC\n",
    "$\n",
    "E_A = 0,5 \\cdot \\frac{w}{g} \\cdot V_A^2 \\cdot C_m \\cdot C_e \\cdot C_c \\cdot C_a \\cdot F_s\n",
    "$\n",
    "\n",
    "$w$ Deslocamento do navio;\n",
    "$g$ Aceleração da Gravidade;\n",
    "$V_A$ Velocidade de atracação perpendicular a linha de atracação;\n",
    "$C_m$ Coeficiente de Massa;\n",
    "$C_e$ Coeficiente de excentricidade;\n",
    "$C_c$ Coeficiente de configuração do cais;\n",
    "$C_a$ Coeficiente de amortecimento;\n",
    "$F_s$ Fator de segurança.\n",
    "\n",
    "\n",
    "$\n",
    "E_A = 0,5 \\cdot (M_1 + M_2) \\cdot V_A^2 \\cdot C_e \\cdot C_a \\cdot F_s\n",
    "$\n",
    "\n",
    "$M_1$ Massa deslocada pelo navio ($w$);\n",
    "$M_2$ Massa de água adicional;\n",
    "$V_A$ Velocidade de atracação perpendicular a linha de atracação;\n",
    "$C_e$ Coeficiente de excentricidade;\n",
    "$C_a$ Coeficiente de amortecimento;\n",
    "$F_s$ Fator de segurança."
   ]
  },
  {
   "cell_type": "markdown",
   "metadata": {},
   "source": [
    "## Atracação"
   ]
  },
  {
   "cell_type": "markdown",
   "metadata": {},
   "source": [
    "### Energia cinética na estrutura\n",
    "PIANC 2002\n",
    "\n",
    "$\n",
    "E_n = 0,5 \\cdot M_D \\cdot V_a^2 \\cdot C_m \\cdot C_e \\cdot C_s \\cdot C_c\n",
    "$\n",
    "\n",
    "$E_n$ é a energia cinética característica nominal; \n",
    "$M_D$ é o deslocamento da embarcação;\n",
    "$V_a$ é a velocidade de atracação perpendicular a linha de atracação;\n",
    "$C_m$ é o coeficiente adicional de massa;\n",
    "$C_e$ é o coeficiente de excentricidade;\n",
    "$C_s$ é o coeficiente de rigidez;\n",
    "$C_c$ é o coeficiente de configuração do cais."
   ]
  },
  {
   "cell_type": "markdown",
   "metadata": {},
   "source": [
    "## Implementação"
   ]
  },
  {
   "cell_type": "code",
   "execution_count": null,
   "metadata": {},
   "outputs": [],
   "source": [
    "###################################\n",
    "### PIANC 2002 Energia Cinética ###\n",
    "###################################\n",
    "\n",
    "def solver_energia_cinetica_atracacao(\n",
    "    v=1,\n",
    "    En = sym.Symbol('En'),\n",
    "    MD = sym.Symbol('MD'),\n",
    "    Va = sym.Symbol('Va'),\n",
    "    Cm = sym.Symbol('Cm'),\n",
    "    Ce = sym.Symbol('Ce'),\n",
    "    Cs = sym.Symbol('Cs'),\n",
    "    Cc = sym.Symbol('Cc')):\n",
    "    return(sym.solvers.nsolve(\n",
    "        (0.5 * MD * (Va**2) * Cm * Ce * Cs * Cc) - En\n",
    "        , v\n",
    "    ))"
   ]
  },
  {
   "cell_type": "markdown",
   "metadata": {},
   "source": [
    "#### Coef. Adicional de Massa\n",
    "\n",
    "##### PIANC 2002\n",
    "\n",
    "Para $\\frac{K_c}{D} \\leq 0,1$\n",
    "\n",
    "$\n",
    "C_m = 1,8\n",
    "$\n",
    "\n",
    "Para $ 0,1 \\leq \\frac{K_c}{D} \\geq 0,5$\n",
    "\n",
    "$\n",
    "C_m = 1,875 - 0,75 \\cdot \\frac{K_c}{D}\n",
    "$\n",
    "\n",
    "Para $\\frac{K_c}{D} \\geq 0,5$\n",
    "\n",
    "$\n",
    "C_m = 1,5\n",
    "$\n",
    "\n",
    "##### SHIGERA UEDA 1981\n",
    "\n",
    "$\n",
    "C_m = 1 + \\frac{\\pi \\cdot D}{2 \\cdot C_B \\cdot B}\n",
    "$\n",
    "\n",
    "##### VASCO COSTA 1964\n",
    "\n",
    "$\n",
    "C_m = 1 + \\frac{2 \\cdot D}{B}\n",
    "$"
   ]
  },
  {
   "cell_type": "markdown",
   "metadata": {},
   "source": [
    "## Implementação"
   ]
  },
  {
   "cell_type": "code",
   "execution_count": null,
   "metadata": {},
   "outputs": [],
   "source": [
    "###################################\n",
    "#### Coeficiente adc. de massa ####\n",
    "###################################\n",
    "\n",
    "def solver_coef_adicional_massa_pianc2002(Kc, D):\n",
    "    # para Kc/D menor que 0.1\n",
    "    Cm = 1.8\n",
    "    # relacao entre Kc e D\n",
    "    aux = Kc/D\n",
    "    if(aux >= 0.1 and aux <= 0.5):\n",
    "        Cm = 1.875 -(0.75 * (Kc/D))\n",
    "    if(aux >= 0.5):\n",
    "        Cm = 1.5\n",
    "    return(Cm)\n",
    "\n",
    "def solver_coef_adicional_massa_shigeraueda1981(D, CB, B):\n",
    "    Cm = 1 + ((math.pi * D)/(2 * CB * B))\n",
    "    return(Cm)\n",
    "\n",
    "def solver_coef_adicional_massa_vascocosta1964(D, B):\n",
    "    Cm = 1 + (2*D/B)\n",
    "    return(Cm)"
   ]
  },
  {
   "cell_type": "markdown",
   "metadata": {},
   "source": [
    "#### Coef. de Excentricidade\n",
    "\n",
    "$\n",
    "C_E = \\frac{k^2 + (R^2 \\cdot \\cos^2(\\gamma))}{k^2 + R^2}\n",
    "$\n",
    "\n",
    "$\n",
    "k = (0,19 \\cdot C_B + 0,11) \\cdot L_{BP}\n",
    "$\n",
    "\n",
    "$\n",
    "R = \\sqrt{ \\left ( \\frac{L_{BP}}{2} - x \\right ) ^{2} + \\left ( \\frac{B}{2} \\right ) ^{2} }\n",
    "$\n",
    "\n",
    "$\n",
    "\\gamma = 90º - \\alpha - \\sin^{-1} \\left ( \\frac{B}{2 \\cdot R} \\right )\n",
    "$"
   ]
  },
  {
   "cell_type": "markdown",
   "metadata": {},
   "source": [
    "## Implementação"
   ]
  },
  {
   "cell_type": "code",
   "execution_count": null,
   "metadata": {},
   "outputs": [],
   "source": [
    "###################################\n",
    "## Coeficiente de excentricidade ##\n",
    "###################################\n",
    "\n",
    "def solver_coef_excentricidade(k, R, gamma):\n",
    "    Ce = ((k**2)+((R**2) * (math.cos(gamma)**2)))/((k**2)+(R**2))\n",
    "    return(Ce)\n",
    "\n",
    "def solver_k(CB, LBP):\n",
    "    k = (0.19 * CB + 0.11) * LBP\n",
    "    return(k)\n",
    "\n",
    "def solver_R(LBP, x, B):\n",
    "    R = math.sqrt((((LBP/2) - x)**2) + ((B/2)**2))\n",
    "    return(R)\n",
    "\n",
    "def solver_gamma(alpha, B, R):\n",
    "    gamma = 90 - alpha - math.degrees(math.asin(B/(2*R)))\n",
    "    return(gamma)"
   ]
  },
  {
   "cell_type": "markdown",
   "metadata": {},
   "source": [
    "#### Coef. de Rigidez\n",
    "\n",
    "Para\n",
    "\n",
    "$\n",
    "\\delta_F \\leq 150mm \\rightarrow C_S \\approx 0,9\n",
    "$\n",
    "\n",
    "Para\n",
    "\n",
    "$\n",
    "\\delta_F > 150mm \\rightarrow C_S = 1,0\n",
    "$\n"
   ]
  },
  {
   "cell_type": "markdown",
   "metadata": {},
   "source": [
    "## Implementação"
   ]
  },
  {
   "cell_type": "code",
   "execution_count": null,
   "metadata": {},
   "outputs": [],
   "source": [
    "###################################\n",
    "##### Coeficiente de rigidez ######\n",
    "###################################\n",
    "\n",
    "def solver_coef_rigidez(deltaf):\n",
    "    Cs = 1.0\n",
    "    # deltaf em milímetros\n",
    "    if (deltaf <= 150):\n",
    "        Cs = 0.9\n",
    "    return(Cs)"
   ]
  },
  {
   "cell_type": "markdown",
   "metadata": {},
   "source": [
    "### Coef. de Configuração do Cais"
   ]
  },
  {
   "cell_type": "markdown",
   "metadata": {},
   "source": [
    "##### Estrutura Fechada\n",
    "\n",
    "Para $ \\frac{K_C}{D} \\leq 0,5 \\rightarrow C_C \\approx 0,8 $\n",
    "\n",
    "Para $ \\frac{K_C}{D} > 0,5 \\rightarrow C_C \\approx 0,9 $\n",
    "\n",
    "Para $ \\alpha > 5° \\rightarrow C_C = 1 $"
   ]
  },
  {
   "cell_type": "markdown",
   "metadata": {},
   "source": [
    "## Implementação"
   ]
  },
  {
   "cell_type": "code",
   "execution_count": null,
   "metadata": {},
   "outputs": [],
   "source": [
    "###################################\n",
    "### Est. Fechada - C. Conf. Cais ##\n",
    "###################################\n",
    "\n",
    "def solver_cc_est_fechada(Kc, D, alpha):\n",
    "    # relacao entre Kc e D\n",
    "    aux = Kc/D\n",
    "    if(aux <= 0.5):\n",
    "        Cc = 0.8\n",
    "    if(aux > 0.5):\n",
    "        Cc = 0.9\n",
    "    if(alpha > 5):\n",
    "        Cc = 1\n",
    "    return(Cc)"
   ]
  },
  {
   "cell_type": "markdown",
   "metadata": {},
   "source": [
    "##### Estrutura Semi-Fechada\n",
    "\n",
    "Para $ \\frac{K_C}{D} \\leq 0,5 \\rightarrow C_C \\approx 0,9 $\n",
    "\n",
    "Para $ \\frac{K_C}{D} > 0,5 \\rightarrow C_C \\approx 1,0 $\n",
    "\n",
    "Para $ \\alpha > 5° \\rightarrow C_C = 1 $"
   ]
  },
  {
   "cell_type": "markdown",
   "metadata": {},
   "source": [
    "## Implementação"
   ]
  },
  {
   "cell_type": "code",
   "execution_count": null,
   "metadata": {},
   "outputs": [],
   "source": [
    "###################################\n",
    "# E. Semi-Fechada - C. Conf. Cais #\n",
    "###################################\n",
    "\n",
    "def solver_cc_est_semi_fechada(Kc, D, alpha):\n",
    "    # relacao entre Kc e D\n",
    "    aux = Kc/D\n",
    "    if(aux <= 0.5):\n",
    "        Cc = 0.9\n",
    "    if(aux > 0.5):\n",
    "        Cc = 1.0\n",
    "    if(alpha > 5):\n",
    "        Cc = 1\n",
    "    return(Cc)"
   ]
  },
  {
   "cell_type": "markdown",
   "metadata": {},
   "source": [
    "##### Estrutura Aberta\n",
    "\n",
    "$ C_C = 1,0 $"
   ]
  },
  {
   "cell_type": "markdown",
   "metadata": {},
   "source": [
    "## Implementação"
   ]
  },
  {
   "cell_type": "code",
   "execution_count": null,
   "metadata": {},
   "outputs": [],
   "source": [
    "###################################\n",
    "### Est. Aberta - C. Conf. Cais ###\n",
    "###################################\n",
    "\n",
    "def solver_cc_est_aberta():\n",
    "    return(1.0)"
   ]
  },
  {
   "cell_type": "markdown",
   "metadata": {},
   "source": [
    "## Ventos e Correntes na Embarcação"
   ]
  },
  {
   "cell_type": "markdown",
   "metadata": {},
   "source": [
    "### Força exercida pelo fluido\n",
    "\n",
    "$\n",
    "F = C_f \\cdot 0,5 \\cdot \\rho \\cdot v^2 \\cdot A\n",
    "$\n"
   ]
  },
  {
   "cell_type": "markdown",
   "metadata": {},
   "source": [
    "## Implementação"
   ]
  },
  {
   "cell_type": "code",
   "execution_count": null,
   "metadata": {},
   "outputs": [],
   "source": [
    "###################################\n",
    "### Força Exercida pelo Fluido ####\n",
    "###################################\n",
    "\n",
    "def solver_forca_fluido(\n",
    "    v=1,\n",
    "    F = sym.Symbol('F'),\n",
    "    Cf = sym.Symbol('Cf'),\n",
    "    rho = sym.Symbol('𝜌'),\n",
    "    v = sym.Symbol('v'),\n",
    "    A = sym.Symbol('A')):\n",
    "    return(sym.solvers.nsolve(\n",
    "        (Cf * 0.5 * rho * (v**2) * A) - F\n",
    "        , v\n",
    "    ))"
   ]
  },
  {
   "cell_type": "markdown",
   "metadata": {},
   "source": [
    "### Força exercida pelo AR\n",
    "BSI - 6349\n",
    "\n",
    "$F_{TW}$ é a força transversal do vento (kN)\n",
    "\n",
    "$\n",
    "F_{TW} = C_{TW} \\cdot \\rho_{A} \\cdot A_L \\cdot V_w^2 \\cdot 10^{-4}\n",
    "$\n",
    "\n",
    "$F_{LW}$ é a força longitudinal do vento (kN)\n",
    "\n",
    "$\n",
    "F_{LW} = C_{LW} \\cdot \\rho_{A} \\cdot A_L \\cdot V_w^2 \\cdot 10^{-4}\n",
    "$"
   ]
  },
  {
   "cell_type": "markdown",
   "metadata": {},
   "source": [
    "## Implementação"
   ]
  },
  {
   "cell_type": "code",
   "execution_count": null,
   "metadata": {},
   "outputs": [],
   "source": [
    "###################################\n",
    "##### Força Exercida pelo Ar ######\n",
    "###################################\n",
    "\n",
    "def solver_forca_trans_ar(\n",
    "    v=1,\n",
    "    FTW = sym.Symbol('FTW'),\n",
    "    CTW = sym.Symbol('CTW'),\n",
    "    rhoA = sym.Symbol('𝜌A'),\n",
    "    AL = sym.Symbol('AL'),\n",
    "    VW = sym.Symbol('VW')):\n",
    "    return(sym.solvers.nsolve(\n",
    "        (CTW * rhoA * AL * (VW**2) * (10**-4)) - FTW\n",
    "        , v\n",
    "    ))\n",
    "\n",
    "def solver_forca_longi_ar(\n",
    "    v=1,\n",
    "    FLW = sym.Symbol('FLW'),\n",
    "    CLW = sym.Symbol('CLW'),\n",
    "    rhoA = sym.Symbol('𝜌A'),\n",
    "    AL = sym.Symbol('AL'),\n",
    "    VW = sym.Symbol('VW')):\n",
    "    return(sym.solvers.nsolve(\n",
    "        (CLW * rhoA * AL * (VW**2) * (10**-4)) - FLW\n",
    "        , v\n",
    "    ))"
   ]
  },
  {
   "cell_type": "markdown",
   "metadata": {},
   "source": [
    "### Força exercida pela CORRENTE\n",
    "BSI - 6349\n",
    "\n",
    "$F_{TC}$ é a força transversal da corrente (kN)\n",
    "\n",
    "$\n",
    "F_{TC} = C_{TC} \\cdot C_{CT} \\cdot \\rho \\cdot L_{BP} \\cdot d_{m} \\cdot V_c^2 \\cdot 10^{-4}\n",
    "$\n",
    "\n",
    "$F_{LC}$ é a força longitudinal da corrente (kN)\n",
    "\n",
    "$\n",
    "F_{LC} = C_{LC} \\cdot C_{CL} \\cdot \\rho \\cdot L_{BP} \\cdot d_{m} \\cdot V_c^2 \\cdot 10^{-4}\n",
    "$"
   ]
  },
  {
   "cell_type": "markdown",
   "metadata": {},
   "source": [
    "## Implementação"
   ]
  },
  {
   "cell_type": "code",
   "execution_count": null,
   "metadata": {},
   "outputs": [],
   "source": [
    "###################################\n",
    "## Força Exercida pela Corrente ###\n",
    "###################################\n",
    "\n",
    "def solver_forca_trans_corrente(\n",
    "    v=1,\n",
    "    FTC = sym.Symbol('FTC'),\n",
    "    CTC = sym.Symbol('CTC'),\n",
    "    CCT = sym.Symbol('CCT'),\n",
    "    rho = sym.Symbol('𝜌'),\n",
    "    LBP = sym.Symbol('LBP'),\n",
    "    dm = sym.Symbol('dm'),\n",
    "    Vc = sym.Symbol('Vc')):\n",
    "    return(sym.solvers.nsolve(\n",
    "        (CTC * CCT * rho * LBP * dm * (Vc**2) * (10**-4)) - FTC\n",
    "        , v\n",
    "    ))\n",
    "\n",
    "def solver_forca_longi_corrente(\n",
    "    v=1,\n",
    "    FLC = sym.Symbol('FLC'),\n",
    "    CLC = sym.Symbol('CLC'),\n",
    "    CCL = sym.Symbol('CCL'),\n",
    "    rho = sym.Symbol('𝜌'),\n",
    "    LBP = sym.Symbol('LBP'),\n",
    "    dm = sym.Symbol('dm'),\n",
    "    Vc = sym.Symbol('Vc')):\n",
    "    return(sym.solvers.nsolve(\n",
    "        (CLC * CCL * rho * LBP * dm * (Vc**2) * (10**-4)) - FLC\n",
    "        , v\n",
    "    ))\n"
   ]
  },
  {
   "cell_type": "markdown",
   "metadata": {},
   "source": []
  }
 ],
 "metadata": {
  "kernelspec": {
   "display_name": "Python 3.9.12 ('base')",
   "language": "python",
   "name": "python3"
  },
  "language_info": {
   "name": "python",
   "version": "3.9.12"
  },
  "orig_nbformat": 4,
  "vscode": {
   "interpreter": {
    "hash": "db246930cef325bdafb275d3b0ca02e2458ca741bddd452e92134387fde1c877"
   }
  }
 },
 "nbformat": 4,
 "nbformat_minor": 2
}
