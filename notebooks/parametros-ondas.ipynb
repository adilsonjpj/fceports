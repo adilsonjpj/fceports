{
 "cells": [
  {
   "cell_type": "markdown",
   "id": "6075c5bc-d406-41f1-8744-6207bed1fa1f",
   "metadata": {},
   "source": [
    "# Ondas Progressivas"
   ]
  },
  {
   "cell_type": "markdown",
   "id": "415b14cc-ef10-4014-a9c1-a57ee7615f5a",
   "metadata": {},
   "source": [
    "#### Número de Onda \"k\"\n",
    "$$\n",
    "k=\\frac{2\\pi}{L}\n",
    "$$\n",
    "\n",
    "#### Frequência Angular \"σ\"\n",
    "$$\n",
    "\\sigma=\\frac{2\\pi}{T}\n",
    "$$\n",
    "\n",
    "#### Equação da dispersão\n",
    "$$\n",
    "\\sigma^2=g \\cdot k \\cdot \\tanh \\left (k \\cdot h \\right ) \n",
    "$$\n",
    "\n",
    "#### Forma da Onda \"n\"\n",
    "$$\n",
    "\\eta=\\alpha \\cdot \\sin ( kx- \\sigma \\cdot t)\n",
    "$$"
   ]
  }
 ],
 "metadata": {
  "kernelspec": {
   "display_name": "Python 3.9.12 ('base')",
   "language": "python",
   "name": "python3"
  },
  "language_info": {
   "codemirror_mode": {
    "name": "ipython",
    "version": 3
   },
   "file_extension": ".py",
   "mimetype": "text/x-python",
   "name": "python",
   "nbconvert_exporter": "python",
   "pygments_lexer": "ipython3",
   "version": "3.9.12"
  },
  "vscode": {
   "interpreter": {
    "hash": "db246930cef325bdafb275d3b0ca02e2458ca741bddd452e92134387fde1c877"
   }
  }
 },
 "nbformat": 4,
 "nbformat_minor": 5
}
