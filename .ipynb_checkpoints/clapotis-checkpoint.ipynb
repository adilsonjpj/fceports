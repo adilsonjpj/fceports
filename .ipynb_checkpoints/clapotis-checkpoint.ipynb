{
 "cells": [
  {
   "cell_type": "markdown",
   "id": "cee498c2-316e-4ada-83fb-f3198b442d04",
   "metadata": {},
   "source": [
    "# Clapotis"
   ]
  },
  {
   "cell_type": "markdown",
   "id": "c504ac0f-b0e9-4056-af72-1f9c011fc5b6",
   "metadata": {},
   "source": [
    "## Documentação sobre os clapotis\n",
    "\n",
    "#### Algum outro texto?\n",
    "\n",
    "### Plano médio da onda\n",
    "$$\n",
    "\\Delta h=\\frac{\\pi H^2}{L} \\cdot cotgh(\\frac{2 \\pi h}{L})\n",
    "$$\n",
    "### Variação de pressão\n",
    "$$\n",
    "\\Delta p=\\frac{H}{cosh(\\frac{2 \\pi h}{L})}\n",
    "$$"
   ]
  },
  {
   "cell_type": "markdown",
   "id": "f8631e95-e14b-4eaf-bdde-e6dae00f6b81",
   "metadata": {
    "tags": []
   },
   "source": [
    "## Implementação do solver"
   ]
  },
  {
   "cell_type": "code",
   "execution_count": 21,
   "id": "8fcd2a7b-db36-476f-bb82-5123cbc3c465",
   "metadata": {
    "tags": []
   },
   "outputs": [],
   "source": [
    "import sympy as sym\n",
    "def solver_planomediodaonda(v=1, deltah = sym.Symbol('Δh'), H = sym.Symbol('H'),L= sym.Symbol('L'),h = sym.Symbol('h')):\n",
    "    return(sym.solvers.nsolve(\n",
    "        (((sym.pi*H**2)/L) * sym.coth((2*sym.pi*h)/L)) - deltah\n",
    "        , v\n",
    "    ))\n",
    "\n",
    "def solver_variacaodepressao(v=1, deltap = sym.Symbol('Δp'), H = sym.Symbol('H'),L= sym.Symbol('L'),h = sym.Symbol('h')):\n",
    "    return(sym.solvers.nsolve(\n",
    "        ( H / sym.cosh((2*sym.pi*h)/L)) - deltap\n",
    "        , v\n",
    "    ))"
   ]
  },
  {
   "cell_type": "markdown",
   "id": "45b92220-ed67-458c-a468-72e91349a2b2",
   "metadata": {},
   "source": [
    "## Plotagem"
   ]
  },
  {
   "cell_type": "code",
   "execution_count": null,
   "id": "d4457984-cda2-4b88-88d1-87d5b68068fc",
   "metadata": {},
   "outputs": [],
   "source": []
  },
  {
   "cell_type": "markdown",
   "id": "63bf864a-6458-4f14-98f6-67c31d51c860",
   "metadata": {},
   "source": [
    "## Exemplo"
   ]
  },
  {
   "cell_type": "code",
   "execution_count": 20,
   "id": "d292d700-7651-43ff-8295-2a2f10ceeb96",
   "metadata": {
    "jupyter": {
     "source_hidden": true
    },
    "tags": []
   },
   "outputs": [
    {
     "name": "stdout",
     "output_type": "stream",
     "text": [
      "Plano médio da onda: \n",
      "1.25452299632626\n",
      "Variação de pressão: \n",
      "3.94683594981665\n"
     ]
    }
   ],
   "source": [
    "profundidade=15.61\n",
    "alturadeonda=5.6\n",
    "comprimentodeonda=110.7\n",
    "\n",
    "print('Plano médio da onda: ')\n",
    "print( solver_planomediodaonda(\n",
    "    H=alturadeonda,\n",
    "    L=comprimentodeonda,\n",
    "    h=profundidade\n",
    ") )\n",
    "\n",
    "print('Variação de pressão: ')\n",
    "print( solver_variacaodepressao(\n",
    "    H=alturadeonda,\n",
    "    L=comprimentodeonda,\n",
    "    h=profundidade\n",
    ") )\n"
   ]
  },
  {
   "cell_type": "code",
   "execution_count": null,
   "id": "55a140da-c0d2-40a4-affe-6751e4d7d382",
   "metadata": {},
   "outputs": [],
   "source": []
  }
 ],
 "metadata": {
  "kernelspec": {
   "display_name": "Python 3 (ipykernel)",
   "language": "python",
   "name": "python3"
  },
  "language_info": {
   "codemirror_mode": {
    "name": "ipython",
    "version": 3
   },
   "file_extension": ".py",
   "mimetype": "text/x-python",
   "name": "python",
   "nbconvert_exporter": "python",
   "pygments_lexer": "ipython3",
   "version": "3.9.7"
  }
 },
 "nbformat": 4,
 "nbformat_minor": 5
}
