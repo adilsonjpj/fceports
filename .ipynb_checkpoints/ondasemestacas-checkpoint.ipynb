{
 "cells": [
  {
   "cell_type": "markdown",
   "id": "cee498c2-316e-4ada-83fb-f3198b442d04",
   "metadata": {},
   "source": [
    "# Forças exercidas pelas ondas em estacas"
   ]
  },
  {
   "cell_type": "markdown",
   "id": "c504ac0f-b0e9-4056-af72-1f9c011fc5b6",
   "metadata": {},
   "source": [
    "## Fórmula de Morrison\n",
    "\n",
    "$$\n",
    "F = C_D \\cdot \\frac{1}{2} \\cdot \\rho \\cdot D \\cdot \\left | u \\right | \\cdot u  \\space - \\space  C_M \\cdot \\rho \\cdot \\frac{\\pi \\cdot D^2}{4} \\cdot \\frac{du}{dt} \n",
    "$$\n",
    "\n",
    "#### Algum outro texto?\n",
    "\n",
    "### Força de arraste\n",
    "$$\n",
    "F_D = C_D \\cdot \\frac{1}{2} \\cdot \\rho g D H^2 \\left [ \\frac{gT^2}{4L^2} \\cdot \\left ( \\frac{\\cosh (k \\cdot (z + h))}{\\cosh(kh)} \\right )^2  \\right ] \\cdot \\left | \\cos \\left ( \\frac{2 \\pi t}{T} \\right ) \\right | \\cdot \\cos \\left ( \\frac{2 \\pi t}{T} \\right )\n",
    "$$\n"
   ]
  },
  {
   "cell_type": "markdown",
   "id": "f8631e95-e14b-4eaf-bdde-e6dae00f6b81",
   "metadata": {
    "tags": []
   },
   "source": [
    "## Implementação do solver"
   ]
  },
  {
   "cell_type": "code",
   "execution_count": 2,
   "id": "8fcd2a7b-db36-476f-bb82-5123cbc3c465",
   "metadata": {
    "jupyter": {
     "source_hidden": true
    },
    "tags": []
   },
   "outputs": [],
   "source": [
    "import sympy as sym\n",
    "\n",
    "def solver_forca_arraste(\n",
    "    v=1,\n",
    "    FD = sym.Symbol('FD'),\n",
    "    CD = sym.Symbol('CD'),\n",
    "    rho = sym.Symbol('𝜌'),\n",
    "    g = sym.Symbol('g'),\n",
    "    D = sym.Symbol('D'),\n",
    "    H = sym.Symbol('H'),\n",
    "    T = sym.Symbol('T'),\n",
    "    L = sym.Symbol('L'),\n",
    "    k = sym.Symbol('k'),\n",
    "    z = sym.Symbol('z'),\n",
    "    t = sym.Symbol('t'),\n",
    "    h = sym.Symbol('h')):\n",
    "    return(sym.solvers.nsolve(\n",
    "        ( CD*0.5*rho*g*D*(H**2) * \n",
    "        ( ((g*T**2)/(4*L**2)) * (( (sym.cosh(k*(z+h)))/(sym.cosh(k*h)) )**2)) *\n",
    "        sym.Abs(sym.cos(2*sym.pi*t/T)) * sym.cos(2*sym.pi*t/T) ) - FD\n",
    "        , v\n",
    "    ))\n",
    "\n",
    "def solver_forca_arraste_max(\n",
    "    v=1,\n",
    "    FD = sym.Symbol('FD'),\n",
    "    CD = sym.Symbol('CD'),\n",
    "    rho = sym.Symbol('𝜌'),\n",
    "    g = sym.Symbol('g'),\n",
    "    D = sym.Symbol('D'),\n",
    "    H = sym.Symbol('H'),\n",
    "    T = sym.Symbol('T'),\n",
    "    L = sym.Symbol('L'),\n",
    "    k = sym.Symbol('k'),\n",
    "    z = sym.Symbol('z'),\n",
    "    h = sym.Symbol('h')):\n",
    "    return(sym.solvers.nsolve(\n",
    "        ( CD*0.5*rho*g*D*(H**2) * \n",
    "        ( ((g*T**2)/(4*L**2)) * (( (sym.cosh(k*(z+h)))/(sym.cosh(k*h)) )**2)) - FD)\n",
    "        , v\n",
    "    ))"
   ]
  },
  {
   "cell_type": "markdown",
   "id": "33a5dc3e-88ad-409e-861a-e5f8361ab536",
   "metadata": {},
   "source": [
    "### Força de Inércia\n",
    "$$\n",
    "F_M = C_M \\cdot \\rho g \\frac{\\pi D^2}{4} H \\left [ \\frac{\\pi}{L} \\cdot \\frac{cosh (k \\cdot (z + h))}{cosh (kh)} \\right ] \\cdot sen \\left ( - \\frac{2 \\pi t}{T} \\right )\n",
    "$$"
   ]
  },
  {
   "cell_type": "markdown",
   "id": "8ec84645-6bab-4d96-a854-b702b0703c9d",
   "metadata": {
    "tags": []
   },
   "source": [
    "## Implementação do solver"
   ]
  },
  {
   "cell_type": "code",
   "execution_count": 3,
   "id": "7eec244a-9410-4a1e-a443-ff4cf10c6904",
   "metadata": {
    "jupyter": {
     "source_hidden": true
    },
    "tags": []
   },
   "outputs": [],
   "source": [
    "def solver_forca_inercia(\n",
    "    v=1,\n",
    "    FM = sym.Symbol('FM'),\n",
    "    CM = sym.Symbol('CM'),\n",
    "    rho = sym.Symbol('𝜌'),\n",
    "    g = sym.Symbol('g'),\n",
    "    D = sym.Symbol('D'),\n",
    "    H = sym.Symbol('H'),\n",
    "    T = sym.Symbol('T'),\n",
    "    L = sym.Symbol('L'),\n",
    "    k = sym.Symbol('k'),\n",
    "    z = sym.Symbol('z'),\n",
    "    t = sym.Symbol('t'),\n",
    "    h = sym.Symbol('h')):\n",
    "    return(sym.solvers.nsolve(\n",
    "        ( CM*rho*g*(sym.pi*(D**2)/4)*H* \n",
    "        ( (sym.pi/L) * ((sym.cosh(k*(z+h)))/(sym.cosh(k*h))) ) *\n",
    "        sym.sin(-2*sym.pi*t/T)) - FM\n",
    "        , v\n",
    "    ))\n",
    "\n",
    "def solver_forca_inercia_max(\n",
    "    v=1,\n",
    "    FM = sym.Symbol('FM'),\n",
    "    CM = sym.Symbol('CM'),\n",
    "    rho = sym.Symbol('𝜌'),\n",
    "    g = sym.Symbol('g'),\n",
    "    D = sym.Symbol('D'),\n",
    "    H = sym.Symbol('H'),\n",
    "    T = sym.Symbol('T'),\n",
    "    L = sym.Symbol('L'),\n",
    "    k = sym.Symbol('k'),\n",
    "    z = sym.Symbol('z'),\n",
    "    h = sym.Symbol('h')):\n",
    "    return(sym.solvers.nsolve(\n",
    "        ( CM*rho*g*(sym.pi*(D**2)/4)*H* \n",
    "        ( (sym.pi/L) * ((sym.cosh(k*(z+h)))/(sym.cosh(k*h))) ) - FM)\n",
    "        , v\n",
    "    ))"
   ]
  },
  {
   "cell_type": "markdown",
   "id": "45b92220-ed67-458c-a468-72e91349a2b2",
   "metadata": {},
   "source": [
    "## Plotagem"
   ]
  },
  {
   "cell_type": "code",
   "execution_count": 10,
   "id": "d4457984-cda2-4b88-88d1-87d5b68068fc",
   "metadata": {},
   "outputs": [
    {
     "data": {
      "text/html": [
       "<img src=\"data:image/svg+xml;base64,PD94bWwgdmVyc2lvbj0iMS4wIiBlbmNvZGluZz0iVVRGLTgiPz4KPHN2ZyB4bWxucz0iaHR0cDovL3d3dy53My5vcmcvMjAwMC9zdmciIHhtbG5zOnhsaW5rPSJodHRwOi8vd3d3LnczLm9yZy8xOTk5L3hsaW5rIgogICAgIHdpZHRoPSIxNTAwIiBoZWlnaHQ9IjI1MDAiIHZpZXdCb3g9Ii0xNTAuMCAtMjUwLjAgMzAwIDUwMCI+CjxkZWZzPgo8L2RlZnM+CjxwYXRoIGQ9Ik0tMTUwLjAsMjUwLjAgTDE1MC4wLDI1MC4wIEwxNTAuMCwyNDAuMCBMLTE1MC4wLDI0MC4wIFoiIGZpbGw9ImJsYWNrIiBzdHJva2U9ImJsYWNrIiAvPgo8cGF0aCBkPSJNLTE1MC4wLDkwLjAgTDE1MC4wLDkwLjAiIHN0cm9rZT0iYmx1ZSIgLz4KPHBhdGggZD0iTTAuNjUsOTAuMCBMNTMuNjYwNTEwNTY5MTA1Nyw5MC4wIEw0OS43MTQ4MDU5ODYxMDM4LDEwMC4wIEw0Ni4yMjg1MzE0OTQzMDI4LDExMC4wIEw0My4xNTYzMzAzODA5OTAxLDEyMC4wIEw0MC40NTgyMzMwNjE1NTAzLDEzMC4wIEwzOC4wOTkxMzcwNzE5NDE0LDE0MC4wIEwzNi4wNDgzNTAzODI4MDI2LDE1MC4wIEwzNC4yNzkxOTIwOTM2NzMxLDE2MC4wIEwzMi43Njg2NDUzMTIzMjI2LDE3MC4wIEwzMS40OTcwNTc3MDMxMjQwLDE4MC4wIEwzMC40NDc4ODU4MDg1ODAwLDE5MC4wIEwyOS42MDc0Nzk4MTc2MDQzLDIwMC4wIEwyOC45NjQ5MDU5ODAzNzc5LDIxMC4wIEwyOC41MTE4MDQzNTkzNzk5LDIyMC4wIEwyOC4yNDIyODAwNjU5MjU2LDIzMC4wIEwyOC4xNTI4MjY1NjcxODg2LDI0MC4wIEwwLjY1LDI0MC4wIiBmaWxsPSJyZWQiIHN0cm9rZT0iYmxhY2siIC8+CjxwYXRoIGQ9Ik0tMC42NSwyNDAuMCBMMC42NSwyNDAuMCBMMC42NSwtMTAuMCBMLTAuNjUsLTEwLjAgWiIgZmlsbD0id2hpdGUiIHN0cm9rZT0iYmxhY2siIC8+Cjx0ZXh0IHg9IjExOC4wIiB5PSIyNDcuMCIgZm9udC1zaXplPSI4IiBmaWxsPSJ5ZWxsb3ciIGR5PSIwZW0iPlNvbG88L3RleHQ+Cjx0ZXh0IHg9IjExOC4wIiB5PSI4NS4wIiBmb250LXNpemU9IjgiIGZpbGw9ImJsdWUiIGR5PSIwZW0iPsOBZ3VhPC90ZXh0Pgo8dGV4dCB4PSI2My42NjA1MTA1NjkxMDU3IiB5PSIxMDAuMCIgZm9udC1zaXplPSI4IiBmaWxsPSJyZWQiIGR5PSIwZW0iPjIuNjUga04vbTwvdGV4dD4KPHRleHQgeD0iMzguMTUyODI2NTY3MTg4NiIgeT0iMjMwLjAiIGZvbnQtc2l6ZT0iOCIgZmlsbD0icmVkIiBkeT0iMGVtIj4xLjM4IGtOL208L3RleHQ+Cjwvc3ZnPg==\">"
      ],
      "text/plain": [
       "<drawSvg.drawing.Drawing at 0x24d34c0bdc0>"
      ]
     },
     "execution_count": 10,
     "metadata": {},
     "output_type": "execute_result"
    }
   ],
   "source": [
    "# Instalar o drawSvg e o pycairo\n",
    "import drawSvg as draw\n",
    "largura = 300\n",
    "altura = 500\n",
    "d = draw.Drawing(largura, altura, origin='center', displayInline=False)\n",
    "\n",
    "D = 1.3 * 1 # Diâmetro da estaca\n",
    "h = 15 * 10 # Profundidade do local\n",
    "\n",
    "# LIMITES DO QUADRO DE DESENHO\n",
    "x_lim_min = -largura/2 # Canto esquerdo da tela\n",
    "x_lim_max = +largura/2 # Canto direito da tela\n",
    "\n",
    "# DESENHO DO SOLO\n",
    "xI_solo = x_lim_min\n",
    "yI_solo = (-altura/2)\n",
    "xS_solo = x_lim_max\n",
    "yS_solo = ((-altura/2)+ 10)\n",
    "\n",
    "solo = draw.Lines(\n",
    "    xI_solo , yI_solo, # Base da estaca\n",
    "    xS_solo , yI_solo,\n",
    "    xS_solo , yS_solo,\n",
    "    xI_solo , yS_solo,\n",
    "    close=True,\n",
    "    fill='black',\n",
    "    stroke='black'\n",
    ")\n",
    "\n",
    "# DESENHO DA AGUA\n",
    "y_agua = yS_solo + h\n",
    "\n",
    "agua = draw.Lines(\n",
    "    x_lim_min , y_agua,\n",
    "    x_lim_max , y_agua,\n",
    "    stroke='blue'\n",
    ")\n",
    "\n",
    "# DESENHO DA ESTACA\n",
    "xI_estaca = (-D/2)\n",
    "yI_estaca = yS_solo\n",
    "xS_estaca = (D/2)\n",
    "yS_estaca = yS_solo + h + 100 # Somei 100 para ficar acima do nível d'agua\n",
    "\n",
    "estaca = draw.Lines(\n",
    "    xI_estaca , yI_estaca, # Base esquerda da estaca\n",
    "    xS_estaca , yI_estaca, # Base direita da estaca\n",
    "    xS_estaca , yS_estaca, # Topo direito da estaca\n",
    "    xI_estaca , yS_estaca, # Topo esquerdo da estaca\n",
    "    close=True,\n",
    "    fill='white',\n",
    "    stroke='black'\n",
    ")\n",
    "\n",
    "# DESENHO DO CARREGAMENTO\n",
    "\n",
    "carga_original_topo = 0\n",
    "carga_original_base = 0\n",
    "\n",
    "loads = []\n",
    "loads.append( xS_estaca ) # Primeiro x\n",
    "loads.append( y_agua ) \n",
    "for i in range(16):\n",
    "    carga_ponto = solver_forca_arraste_max(\n",
    "        CD = 1.05,\n",
    "        rho = 1025,\n",
    "        g = 9.81,\n",
    "        D = 0.8,\n",
    "        H = 5.6,\n",
    "        T = 10,\n",
    "        L = 110.7,\n",
    "        k = 0.057,\n",
    "        z = -i,\n",
    "        h = 15\n",
    "    )\n",
    "    # Salvando os max e min\n",
    "    if (i==0):\n",
    "        carga_original_topo = carga_ponto/1000\n",
    "    if (i==15):\n",
    "        carga_original_base = carga_ponto/1000\n",
    "    \n",
    "    x = (carga_ponto/50) + xS_estaca\n",
    "    y = (10*(-i)) + y_agua\n",
    "    #print('x=' + str(x))\n",
    "    #print('y=' + str(y))\n",
    "    loads.append( x ) # X\n",
    "    loads.append( y ) # Vai ser o Y\n",
    "\n",
    "# Final\n",
    "loads.append( xS_estaca )\n",
    "loads.append( yI_estaca )\n",
    "\n",
    "#print(loads)\n",
    "\n",
    "carregamento = draw.Lines(\n",
    "    *loads,\n",
    "    #close=True,\n",
    "    fill='red',\n",
    "    stroke='black'\n",
    ")\n",
    "\n",
    "# TEXTOS\n",
    "t_agua = draw.Text('Água', 8, x_lim_max - (8*4), y_agua +5, fill='blue')\n",
    "t_solo = draw.Text('Solo', 8, x_lim_max - (8*4), ((yS_solo + yI_solo)/2)-2 , fill='yellow')\n",
    "\n",
    "t_carga_topo = draw.Text(str(round(carga_original_topo, 2)) + ' kN/m', 8, loads[2] + 10 , loads[1] -10 , fill='red')\n",
    "t_carga_base = draw.Text(str(round(carga_original_base, 2)) + ' kN/m', 8, loads[-4] + 10 , loads[-1] +10, fill='red')\n",
    "\n",
    "\n",
    "# DESENHAR TUDO\n",
    "d.append(solo)\n",
    "d.append(agua)\n",
    "d.append(carregamento)\n",
    "d.append(estaca)\n",
    "d.append(t_solo)\n",
    "d.append(t_agua)\n",
    "d.append(t_carga_topo)\n",
    "d.append(t_carga_base)\n",
    "d.setPixelScale(5)\n",
    "d"
   ]
  },
  {
   "cell_type": "markdown",
   "id": "63bf864a-6458-4f14-98f6-67c31d51c860",
   "metadata": {},
   "source": [
    "## Exemplo"
   ]
  },
  {
   "cell_type": "code",
   "execution_count": 3,
   "id": "d292d700-7651-43ff-8295-2a2f10ceeb96",
   "metadata": {
    "tags": []
   },
   "outputs": [
    {
     "name": "stdout",
     "output_type": "stream",
     "text": [
      "Força de Arraste: \n",
      "2650.52552845528\n",
      "Força de Inércia: \n",
      "-1124.55588493266\n",
      "Força de Arraste Max: \n",
      "2650.52552845528\n",
      "Força de Inércia Max: \n",
      "1124.55588493266\n"
     ]
    }
   ],
   "source": [
    "print('Força de Arraste: ')\n",
    "print( solver_forcadearraste(\n",
    "    CD = 1.05,\n",
    "    rho = 1025,\n",
    "    g = 9.81,\n",
    "    D = 0.8,\n",
    "    H = 5.6,\n",
    "    T = 10,\n",
    "    L = 110.7,\n",
    "    k = 0.057,\n",
    "    z = 0,\n",
    "    t = 0,\n",
    "    h = 15.61\n",
    ") )\n",
    "\n",
    "print('Força de Inércia: ')\n",
    "print( solver_forcadeinercia(\n",
    "    CM = 1.4,\n",
    "    rho = 1025,\n",
    "    g = 9.81,\n",
    "    D = 0.8,\n",
    "    H = 5.6,\n",
    "    T = 10,\n",
    "    L = 110.7,\n",
    "    k = 0.057,\n",
    "    z = 0,\n",
    "    t = 2.5,\n",
    "    h = 15.61\n",
    ") )\n",
    "\n",
    "print('Força de Arraste Max: ')\n",
    "print( solver_forcadearrastemax(\n",
    "    CD = 1.05,\n",
    "    rho = 1025,\n",
    "    g = 9.81,\n",
    "    D = 0.8,\n",
    "    H = 5.6,\n",
    "    T = 10,\n",
    "    L = 110.7,\n",
    "    k = 0.057,\n",
    "    z = 0,\n",
    "    h = 15.61\n",
    ") )\n",
    "\n",
    "print('Força de Inércia Max: ')\n",
    "print( solver_forcadeinerciamax(\n",
    "    CM = 1.4,\n",
    "    rho = 1025,\n",
    "    g = 9.81,\n",
    "    D = 0.8,\n",
    "    H = 5.6,\n",
    "    T = 10,\n",
    "    L = 110.7,\n",
    "    k = 0.057,\n",
    "    z = 0,\n",
    "    h = 15.61\n",
    ") )"
   ]
  },
  {
   "cell_type": "code",
   "execution_count": 64,
   "id": "55a140da-c0d2-40a4-affe-6751e4d7d382",
   "metadata": {},
   "outputs": [
    {
     "name": "stdout",
     "output_type": "stream",
     "text": [
      "i=0    FD=2650.53\n",
      "i=1    FD=2448.12\n",
      "i=2    FD=2269.05\n",
      "i=3    FD=2110.98\n",
      "i=4    FD=1971.85\n",
      "i=5    FD=1849.86\n",
      "i=6    FD=1743.42\n",
      "i=7    FD=1651.14\n",
      "i=8    FD=1571.83\n",
      "i=9    FD=1504.44\n",
      "i=10    FD=1448.11\n",
      "i=11    FD=1402.10\n",
      "i=12    FD=1365.81\n",
      "i=13    FD=1338.77\n",
      "i=14    FD=1320.63\n",
      "i=15    FD=1311.16\n"
     ]
    },
    {
     "data": {
      "text/plain": [
       "[<matplotlib.lines.Line2D at 0x1ed30e901f0>]"
      ]
     },
     "execution_count": 64,
     "metadata": {},
     "output_type": "execute_result"
    },
    {
     "data": {
      "image/png": "[encoded data removed]",
      "text/plain": [
       "<Figure size 432x288 with 1 Axes>"
      ]
     },
     "metadata": {
      "needs_background": "light"
     },
     "output_type": "display_data"
    }
   ],
   "source": [
    "import matplotlib.pyplot as plt\n",
    "forca = []\n",
    "for i in range (0, 16):\n",
    "    resultado = solver_forcadearrastemax(\n",
    "    CD = 1.05,\n",
    "    rho = 1025,\n",
    "    g = 9.81,\n",
    "    D = 0.8,\n",
    "    H = 5.6,\n",
    "    T = 10,\n",
    "    L = 110.7,\n",
    "    k = 0.057,\n",
    "    z = -i,\n",
    "    h = 15.61\n",
    "    )\n",
    "    print('i=' + str(i) +'    FD=' + str(round(resultado,2)))\n",
    "    forca.append(resultado)\n",
    "\n",
    "plt.plot(forca)"
   ]
  },
  {
   "cell_type": "code",
   "execution_count": null,
   "id": "65dc0a4d-fe81-4a1d-8028-a2d426f78308",
   "metadata": {},
   "outputs": [],
   "source": []
  }
 ],
 "metadata": {
  "kernelspec": {
   "display_name": "Python 3 (ipykernel)",
   "language": "python",
   "name": "python3"
  },
  "language_info": {
   "codemirror_mode": {
    "name": "ipython",
    "version": 3
   },
   "file_extension": ".py",
   "mimetype": "text/x-python",
   "name": "python",
   "nbconvert_exporter": "python",
   "pygments_lexer": "ipython3",
   "version": "3.9.12"
  }
 },
 "nbformat": 4,
 "nbformat_minor": 5
}
