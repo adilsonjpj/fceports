{
 "cells": [
  {
   "cell_type": "markdown",
   "id": "cee498c2-316e-4ada-83fb-f3198b442d04",
   "metadata": {},
   "source": [
    "# Forças exercidas pelas ondas em estacas"
   ]
  },
  {
   "cell_type": "markdown",
   "id": "c504ac0f-b0e9-4056-af72-1f9c011fc5b6",
   "metadata": {},
   "source": [
    "## Documentação as forças\n",
    "\n",
    "#### Algum outro texto?\n",
    "\n",
    "### Força de arraste\n",
    "$$\n",
    "F_D = C_D \\cdot \\frac{1}{2} \\cdot \\rho g D H^2 \\left [ \\frac{gT^2}{4L^2} \\cdot \\left ( \\frac{\\cosh (k \\cdot (z + h))}{\\cosh(kh)} \\right )^2  \\right ] \\cdot \\left | \\cos \\left ( \\frac{2 \\pi t}{T} \\right ) \\right | \\cdot \\cos \\left ( \\frac{2 \\pi t}{T} \\right )\n",
    "$$\n"
   ]
  },
  {
   "cell_type": "markdown",
   "id": "f8631e95-e14b-4eaf-bdde-e6dae00f6b81",
   "metadata": {
    "tags": []
   },
   "source": [
    "## Implementação do solver"
   ]
  },
  {
   "cell_type": "code",
   "execution_count": 1,
   "id": "8fcd2a7b-db36-476f-bb82-5123cbc3c465",
   "metadata": {
    "tags": []
   },
   "outputs": [],
   "source": [
    "import sympy as sym\n",
    "\n",
    "def solver_forcadearraste(\n",
    "    v=1,\n",
    "    FD = sym.Symbol('FD'),\n",
    "    CD = sym.Symbol('CD'),\n",
    "    rho = sym.Symbol('𝜌'),\n",
    "    g = sym.Symbol('g'),\n",
    "    D = sym.Symbol('D'),\n",
    "    H = sym.Symbol('H'),\n",
    "    T = sym.Symbol('T'),\n",
    "    L = sym.Symbol('L'),\n",
    "    k = sym.Symbol('k'),\n",
    "    z = sym.Symbol('z'),\n",
    "    t = sym.Symbol('t'),\n",
    "    h = sym.Symbol('h')):\n",
    "    return(sym.solvers.nsolve(\n",
    "        ( CD*0.5*rho*g*D*(H**2) * \n",
    "        ( ((g*T**2)/(4*L**2)) * (( (sym.cosh(k*(z+h)))/(sym.cosh(k*h)) )**2)) *\n",
    "        sym.Abs(sym.cos(2*sym.pi*t/T)) * sym.cos(2*sym.pi*t/T) ) - FD\n",
    "        , v\n",
    "    ))\n",
    "\n",
    "def solver_forcadearrastemax(\n",
    "    v=1,\n",
    "    FD = sym.Symbol('FD'),\n",
    "    CD = sym.Symbol('CD'),\n",
    "    rho = sym.Symbol('𝜌'),\n",
    "    g = sym.Symbol('g'),\n",
    "    D = sym.Symbol('D'),\n",
    "    H = sym.Symbol('H'),\n",
    "    T = sym.Symbol('T'),\n",
    "    L = sym.Symbol('L'),\n",
    "    k = sym.Symbol('k'),\n",
    "    z = sym.Symbol('z'),\n",
    "    h = sym.Symbol('h')):\n",
    "    return(sym.solvers.nsolve(\n",
    "        ( CD*0.5*rho*g*D*(H**2) * \n",
    "        ( ((g*T**2)/(4*L**2)) * (( (sym.cosh(k*(z+h)))/(sym.cosh(k*h)) )**2)) - FD)\n",
    "        , v\n",
    "    ))"
   ]
  },
  {
   "cell_type": "markdown",
   "id": "33a5dc3e-88ad-409e-861a-e5f8361ab536",
   "metadata": {},
   "source": [
    "### Força de Inércia\n",
    "$$\n",
    "F_M = C_M \\cdot \\rho g \\frac{\\pi D^2}{4} H \\left [ \\frac{\\pi}{L} \\cdot \\frac{cosh (k \\cdot (z + h))}{cosh (kh)} \\right ] \\cdot sen \\left ( - \\frac{2 \\pi t}{T} \\right )\n",
    "$$"
   ]
  },
  {
   "cell_type": "markdown",
   "id": "8ec84645-6bab-4d96-a854-b702b0703c9d",
   "metadata": {
    "tags": []
   },
   "source": [
    "## Implementação do solver"
   ]
  },
  {
   "cell_type": "code",
   "execution_count": 2,
   "id": "7eec244a-9410-4a1e-a443-ff4cf10c6904",
   "metadata": {},
   "outputs": [],
   "source": [
    "def solver_forcadeinercia(\n",
    "    v=1,\n",
    "    FM = sym.Symbol('FM'),\n",
    "    CM = sym.Symbol('CM'),\n",
    "    rho = sym.Symbol('𝜌'),\n",
    "    g = sym.Symbol('g'),\n",
    "    D = sym.Symbol('D'),\n",
    "    H = sym.Symbol('H'),\n",
    "    T = sym.Symbol('T'),\n",
    "    L = sym.Symbol('L'),\n",
    "    k = sym.Symbol('k'),\n",
    "    z = sym.Symbol('z'),\n",
    "    t = sym.Symbol('t'),\n",
    "    h = sym.Symbol('h')):\n",
    "    return(sym.solvers.nsolve(\n",
    "        ( CM*rho*g*(sym.pi*(D**2)/4)*H* \n",
    "        ( (sym.pi/L) * ((sym.cosh(k*(z+h)))/(sym.cosh(k*h))) ) *\n",
    "        sym.sin(-2*sym.pi*t/T)) - FM\n",
    "        , v\n",
    "    ))\n",
    "\n",
    "def solver_forcadeinerciamax(\n",
    "    v=1,\n",
    "    FM = sym.Symbol('FM'),\n",
    "    CM = sym.Symbol('CM'),\n",
    "    rho = sym.Symbol('𝜌'),\n",
    "    g = sym.Symbol('g'),\n",
    "    D = sym.Symbol('D'),\n",
    "    H = sym.Symbol('H'),\n",
    "    T = sym.Symbol('T'),\n",
    "    L = sym.Symbol('L'),\n",
    "    k = sym.Symbol('k'),\n",
    "    z = sym.Symbol('z'),\n",
    "    h = sym.Symbol('h')):\n",
    "    return(sym.solvers.nsolve(\n",
    "        ( CM*rho*g*(sym.pi*(D**2)/4)*H* \n",
    "        ( (sym.pi/L) * ((sym.cosh(k*(z+h)))/(sym.cosh(k*h))) ) - FM)\n",
    "        , v\n",
    "    ))"
   ]
  },
  {
   "cell_type": "markdown",
   "id": "45b92220-ed67-458c-a468-72e91349a2b2",
   "metadata": {},
   "source": [
    "## Plotagem"
   ]
  },
  {
   "cell_type": "code",
   "execution_count": null,
   "id": "d4457984-cda2-4b88-88d1-87d5b68068fc",
   "metadata": {},
   "outputs": [],
   "source": []
  },
  {
   "cell_type": "markdown",
   "id": "63bf864a-6458-4f14-98f6-67c31d51c860",
   "metadata": {},
   "source": [
    "## Exemplo"
   ]
  },
  {
   "cell_type": "code",
   "execution_count": 3,
   "id": "d292d700-7651-43ff-8295-2a2f10ceeb96",
   "metadata": {
    "tags": []
   },
   "outputs": [
    {
     "name": "stdout",
     "output_type": "stream",
     "text": [
      "Força de Arraste: \n",
      "2650.52552845528\n",
      "Força de Inércia: \n",
      "-1124.55588493266\n",
      "Força de Arraste Max: \n",
      "2650.52552845528\n",
      "Força de Inércia Max: \n",
      "1124.55588493266\n"
     ]
    }
   ],
   "source": [
    "print('Força de Arraste: ')\n",
    "print( solver_forcadearraste(\n",
    "    CD = 1.05,\n",
    "    rho = 1025,\n",
    "    g = 9.81,\n",
    "    D = 0.8,\n",
    "    H = 5.6,\n",
    "    T = 10,\n",
    "    L = 110.7,\n",
    "    k = 0.057,\n",
    "    z = 0,\n",
    "    t = 0,\n",
    "    h = 15.61\n",
    ") )\n",
    "\n",
    "print('Força de Inércia: ')\n",
    "print( solver_forcadeinercia(\n",
    "    CM = 1.4,\n",
    "    rho = 1025,\n",
    "    g = 9.81,\n",
    "    D = 0.8,\n",
    "    H = 5.6,\n",
    "    T = 10,\n",
    "    L = 110.7,\n",
    "    k = 0.057,\n",
    "    z = 0,\n",
    "    t = 2.5,\n",
    "    h = 15.61\n",
    ") )\n",
    "\n",
    "print('Força de Arraste Max: ')\n",
    "print( solver_forcadearrastemax(\n",
    "    CD = 1.05,\n",
    "    rho = 1025,\n",
    "    g = 9.81,\n",
    "    D = 0.8,\n",
    "    H = 5.6,\n",
    "    T = 10,\n",
    "    L = 110.7,\n",
    "    k = 0.057,\n",
    "    z = 0,\n",
    "    h = 15.61\n",
    ") )\n",
    "\n",
    "print('Força de Inércia Max: ')\n",
    "print( solver_forcadeinerciamax(\n",
    "    CM = 1.4,\n",
    "    rho = 1025,\n",
    "    g = 9.81,\n",
    "    D = 0.8,\n",
    "    H = 5.6,\n",
    "    T = 10,\n",
    "    L = 110.7,\n",
    "    k = 0.057,\n",
    "    z = 0,\n",
    "    h = 15.61\n",
    ") )"
   ]
  },
  {
   "cell_type": "code",
   "execution_count": 4,
   "id": "55a140da-c0d2-40a4-affe-6751e4d7d382",
   "metadata": {},
   "outputs": [
    {
     "data": {
      "text/plain": [
       "[<matplotlib.lines.Line2D at 0x2382348ba00>]"
      ]
     },
     "execution_count": 4,
     "metadata": {},
     "output_type": "execute_result"
    },
    {
     "data": {
      "image/png": "[encoded data removed]",
      "text/plain": [
       "<Figure size 432x288 with 1 Axes>"
      ]
     },
     "metadata": {
      "needs_background": "light"
     },
     "output_type": "display_data"
    }
   ],
   "source": [
    "import matplotlib.pyplot as plt\n",
    "forca = []\n",
    "for i in range (0, 1561):\n",
    "    forca.append(solver_forcadearrastemax(\n",
    "    CD = 1.05,\n",
    "    rho = 1025,\n",
    "    g = 9.81,\n",
    "    D = 0.8,\n",
    "    H = 5.6,\n",
    "    T = 10,\n",
    "    L = 110.7,\n",
    "    k = 0.057,\n",
    "    z = i/100,\n",
    "    h = 15.61\n",
    "))\n",
    "\n",
    "plt.plot(forca)"
   ]
  },
  {
   "cell_type": "code",
   "execution_count": null,
   "id": "65dc0a4d-fe81-4a1d-8028-a2d426f78308",
   "metadata": {},
   "outputs": [],
   "source": []
  }
 ],
 "metadata": {
  "kernelspec": {
   "display_name": "Python 3 (ipykernel)",
   "language": "python",
   "name": "python3"
  },
  "language_info": {
   "codemirror_mode": {
    "name": "ipython",
    "version": 3
   },
   "file_extension": ".py",
   "mimetype": "text/x-python",
   "name": "python",
   "nbconvert_exporter": "python",
   "pygments_lexer": "ipython3",
   "version": "3.9.12"
  }
 },
 "nbformat": 4,
 "nbformat_minor": 5
}
