{
 "cells": [
  {
   "cell_type": "markdown",
   "id": "cee498c2-316e-4ada-83fb-f3198b442d04",
   "metadata": {},
   "source": [
    "# Clapotis"
   ]
  },
  {
   "cell_type": "markdown",
   "id": "c504ac0f-b0e9-4056-af72-1f9c011fc5b6",
   "metadata": {},
   "source": [
    "## Documentação sobre os clapotis\n",
    "\n",
    "#### Algum outro texto?\n",
    "\n",
    "### Plano médio da onda\n",
    "$$\n",
    "\\Delta h=\\frac{\\pi \\cdot H^2}{L} \\cdot \\coth \\left ( \\frac{2 \\cdot \\pi \\cdot h}{L} \\right )\n",
    "$$\n",
    "### Variação de pressão\n",
    "$$\n",
    "\\Delta p=\\frac{H}{\\cosh \\left (\\frac{2 \\cdot \\pi \\cdot h}{L} \\right )}\n",
    "$$"
   ]
  },
  {
   "cell_type": "markdown",
   "id": "f8631e95-e14b-4eaf-bdde-e6dae00f6b81",
   "metadata": {
    "tags": []
   },
   "source": [
    "## Implementação do solver"
   ]
  },
  {
   "cell_type": "code",
   "execution_count": 2,
   "id": "8fcd2a7b-db36-476f-bb82-5123cbc3c465",
   "metadata": {
    "tags": []
   },
   "outputs": [],
   "source": [
    "import sympy as sym\n",
    "def solver_planomediodaonda(\n",
    "    v=1, \n",
    "    deltah = sym.Symbol('Δh'), \n",
    "    H = sym.Symbol('H'),\n",
    "    L= sym.Symbol('L'),\n",
    "    h = sym.Symbol('h')):\n",
    "    return(sym.solvers.nsolve(\n",
    "        (((sym.pi*H**2)/L) * sym.coth((2*sym.pi*h)/L)) - deltah\n",
    "        , v\n",
    "    ))\n",
    "\n",
    "def solver_variacaodepressao(v=1, deltap = sym.Symbol('Δp'), H = sym.Symbol('H'),L= sym.Symbol('L'),h = sym.Symbol('h')):\n",
    "    return(sym.solvers.nsolve(\n",
    "        ( H / sym.cosh((2*sym.pi*h)/L)) - deltap\n",
    "        , v\n",
    "    ))"
   ]
  },
  {
   "cell_type": "markdown",
   "id": "76f3a044-ceeb-4804-8564-23e7365776c3",
   "metadata": {},
   "source": [
    "## Para o gráfico\n",
    "\n",
    "$$\n",
    "\\Delta_p = \\frac{\\rho \\cdot g \\cdot H}{\\cosh \\left ( \\frac{2 \\cdot \\pi \\cdot h}{L} \\right )}\n",
    "$$\n",
    "\n",
    "A pressão no ponto 1-7:\n",
    "\n",
    "$$\n",
    "p_{1-7} = (\\Delta p + \\rho \\cdot g \\cdot h) \\cdot \\left ( \\frac{H + \\Delta h}{H + h + \\Delta h} \\right )\n",
    "$$\n",
    "\n",
    "A pressão no ponto 5-8:\n",
    "\n",
    "$$\n",
    "p_{5-8} = \\rho \\cdot g \\cdot (H - \\Delta h)\n",
    "$$"
   ]
  },
  {
   "cell_type": "markdown",
   "id": "db72c9dd-5df4-4bc0-8770-63ff4ac5464c",
   "metadata": {},
   "source": [
    "### Implementação do Solver"
   ]
  },
  {
   "cell_type": "code",
   "execution_count": 5,
   "id": "89c5a763-499c-4c32-b1bb-1b0d8e2734fb",
   "metadata": {},
   "outputs": [],
   "source": [
    "def solver_deltap(\n",
    "    v=1, \n",
    "    deltap = sym.Symbol('Δp'), \n",
    "    H = sym.Symbol('H'),\n",
    "    L= sym.Symbol('L'),\n",
    "    rho = sym.Symbol('𝜌'),\n",
    "    g = sym.Symbol('g'),\n",
    "    h = sym.Symbol('h')):\n",
    "    return(sym.solvers.nsolve(\n",
    "        ( (rho*g*H) / sym.cosh((2*sym.pi*h)/L)) - deltap\n",
    "        , v\n",
    "    ))\n",
    "\n",
    "def solver_p17(\n",
    "    v=1,\n",
    "    p17 = sym.Symbol('p17'), \n",
    "    deltap = sym.Symbol('Δp'),\n",
    "    deltah = sym.Symbol('Δh'),\n",
    "    rho = sym.Symbol('𝜌'),\n",
    "    g = sym.Symbol('g'),\n",
    "    H = sym.Symbol('H'),\n",
    "    h = sym.Symbol('h')):\n",
    "    return(sym.solvers.nsolve(\n",
    "        ( (deltap + rho*g*h) * ( (H + deltah)/(H + h + deltah) ) ) - p17\n",
    "        , v\n",
    "    ))\n",
    "\n",
    "def solver_p58(\n",
    "    v=1,\n",
    "    p58 = sym.Symbol('p58'),\n",
    "    deltah = sym.Symbol('Δh'),\n",
    "    rho = sym.Symbol('𝜌'),\n",
    "    g = sym.Symbol('g'),\n",
    "    H = sym.Symbol('H')):\n",
    "    return(sym.solvers.nsolve(\n",
    "        (rho*g*( H - deltah )) - p58\n",
    "        , v\n",
    "    ))"
   ]
  },
  {
   "cell_type": "code",
   "execution_count": 4,
   "id": "a53a472a-20ca-4d15-b842-8a7783838cf1",
   "metadata": {},
   "outputs": [],
   "source": [
    "def forca_onda_arrebentacao_parede(\n",
    "    v=1,\n",
    "    Ft = sym.Symbol('Ft'),\n",
    "    Cp = sym.Symbol('Cp'),\n",
    "    gama_agua = sym.Symbol('𝛾w'),\n",
    "    ds = sym.Symbol('ds'),\n",
    "    Hb = sym.Symbol('Hb')):\n",
    "    return(sym.solvers.nsolve(\n",
    "        ( (1.1 * Cp * gama_agua * (ds**2)) + (2.4 * gama_agua * (ds**2) )) - Ft\n",
    "        , v\n",
    "    ))\n"
   ]
  },
  {
   "cell_type": "markdown",
   "id": "45b92220-ed67-458c-a468-72e91349a2b2",
   "metadata": {},
   "source": [
    "## Plotagem"
   ]
  },
  {
   "cell_type": "code",
   "execution_count": null,
   "id": "d4457984-cda2-4b88-88d1-87d5b68068fc",
   "metadata": {},
   "outputs": [],
   "source": []
  },
  {
   "cell_type": "markdown",
   "id": "63bf864a-6458-4f14-98f6-67c31d51c860",
   "metadata": {
    "tags": []
   },
   "source": [
    "## Exemplo"
   ]
  },
  {
   "cell_type": "code",
   "execution_count": 20,
   "id": "d292d700-7651-43ff-8295-2a2f10ceeb96",
   "metadata": {
    "jupyter": {
     "source_hidden": true
    },
    "tags": []
   },
   "outputs": [
    {
     "name": "stdout",
     "output_type": "stream",
     "text": [
      "Plano médio da onda: \n",
      "1.25452299632626\n",
      "Variação de pressão: \n",
      "3.94683594981665\n"
     ]
    }
   ],
   "source": [
    "profundidade=15.61\n",
    "alturadeonda=5.6\n",
    "comprimentodeonda=110.7\n",
    "\n",
    "print('Plano médio da onda: ')\n",
    "print( solver_planomediodaonda(\n",
    "    H=alturadeonda,\n",
    "    L=comprimentodeonda,\n",
    "    h=profundidade\n",
    ") )\n",
    "\n",
    "print('Variação de pressão: ')\n",
    "print( solver_variacaodepressao(\n",
    "    H=alturadeonda,\n",
    "    L=comprimentodeonda,\n",
    "    h=profundidade\n",
    ") )\n"
   ]
  },
  {
   "cell_type": "code",
   "execution_count": null,
   "id": "55a140da-c0d2-40a4-affe-6751e4d7d382",
   "metadata": {},
   "outputs": [],
   "source": []
  }
 ],
 "metadata": {
  "kernelspec": {
   "display_name": "Python 3.9.12 ('base')",
   "language": "python",
   "name": "python3"
  },
  "language_info": {
   "codemirror_mode": {
    "name": "ipython",
    "version": 3
   },
   "file_extension": ".py",
   "mimetype": "text/x-python",
   "name": "python",
   "nbconvert_exporter": "python",
   "pygments_lexer": "ipython3",
   "version": "3.9.12"
  },
  "vscode": {
   "interpreter": {
    "hash": "730eebadb19efe927f1816b4a55ecdf995ed8d06dbd3c01a1b9342b5a75d3f03"
   }
  }
 },
 "nbformat": 4,
 "nbformat_minor": 5
}
