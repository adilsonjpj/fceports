{
 "cells": [
  {
   "cell_type": "markdown",
   "id": "cee498c2-316e-4ada-83fb-f3198b442d04",
   "metadata": {},
   "source": [
    "# Forças exercidas pelas ondas em estacas"
   ]
  },
  {
   "cell_type": "markdown",
   "id": "c504ac0f-b0e9-4056-af72-1f9c011fc5b6",
   "metadata": {},
   "source": [
    "## Documentação as forças\n",
    "\n",
    "#### Algum outro texto?\n",
    "\n",
    "### Força de arraste\n",
    "$$\n",
    "F_D = C_D \\cdot \\frac{1}{2} \\cdot \\rho g D H^2 \\left [ \\frac{gT^2}{4L^2} \\cdot \\left ( \\frac{\\cosh (k \\cdot (z + h))}{\\cosh(kh)} \\right )^2  \\right ] \\cdot \\left | \\cos \\left ( \\frac{2 \\pi t}{T} \\right ) \\right | \\cdot \\cos \\left ( \\frac{2 \\pi t}{T} \\right )\n",
    "$$\n"
   ]
  },
  {
   "cell_type": "markdown",
   "id": "f8631e95-e14b-4eaf-bdde-e6dae00f6b81",
   "metadata": {
    "tags": []
   },
   "source": [
    "## Implementação do solver"
   ]
  },
  {
   "cell_type": "code",
   "execution_count": 33,
   "id": "8fcd2a7b-db36-476f-bb82-5123cbc3c465",
   "metadata": {
    "tags": []
   },
   "outputs": [],
   "source": [
    "import sympy as sym\n",
    "\n",
    "def solver_forcadearraste(\n",
    "    v=1,\n",
    "    FD = sym.Symbol('FD'),\n",
    "    CD = sym.Symbol('CD'),\n",
    "    rho = sym.Symbol('𝜌'),\n",
    "    g = sym.Symbol('g'),\n",
    "    D = sym.Symbol('D'),\n",
    "    H = sym.Symbol('H'),\n",
    "    T = sym.Symbol('T'),\n",
    "    L = sym.Symbol('L'),\n",
    "    k = sym.Symbol('k'),\n",
    "    z = sym.Symbol('z'),\n",
    "    t = sym.Symbol('t'),\n",
    "    h = sym.Symbol('h')):\n",
    "    return(sym.solvers.nsolve(\n",
    "        ( CD*0.5*rho*g*D*(H**2) * \n",
    "        ( ((g*T**2)/(4*L**2)) * (( (sym.cosh(k*(z+h)))/(sym.cosh(k*h)) )**2)) *\n",
    "        sym.Abs(sym.cos(2*sym.pi*t/T)) * sym.cos(2*sym.pi*t/T) ) - FD\n",
    "        , v\n",
    "    ))\n",
    "\n",
    "def solver_forcadearrastemax(\n",
    "    v=1,\n",
    "    FD = sym.Symbol('FD'),\n",
    "    CD = sym.Symbol('CD'),\n",
    "    rho = sym.Symbol('𝜌'),\n",
    "    g = sym.Symbol('g'),\n",
    "    D = sym.Symbol('D'),\n",
    "    H = sym.Symbol('H'),\n",
    "    T = sym.Symbol('T'),\n",
    "    L = sym.Symbol('L'),\n",
    "    k = sym.Symbol('k'),\n",
    "    z = sym.Symbol('z'),\n",
    "    h = sym.Symbol('h')):\n",
    "    return(sym.solvers.nsolve(\n",
    "        ( CD*0.5*rho*g*D*(H**2) * \n",
    "        ( ((g*T**2)/(4*L**2)) * (( (sym.cosh(k*(z+h)))/(sym.cosh(k*h)) )**2)) - FD)\n",
    "        , v\n",
    "    ))"
   ]
  },
  {
   "cell_type": "markdown",
   "id": "33a5dc3e-88ad-409e-861a-e5f8361ab536",
   "metadata": {},
   "source": [
    "### Força de Inércia\n",
    "$$\n",
    "F_M = C_M \\cdot \\rho g \\frac{\\pi D^2}{4} H \\left [ \\frac{\\pi}{L} \\cdot \\frac{cosh (k \\cdot (z + h))}{cosh (kh)} \\right ] \\cdot sen \\left ( - \\frac{2 \\pi t}{T} \\right )\n",
    "$$"
   ]
  },
  {
   "cell_type": "markdown",
   "id": "8ec84645-6bab-4d96-a854-b702b0703c9d",
   "metadata": {
    "tags": []
   },
   "source": [
    "## Implementação do solver"
   ]
  },
  {
   "cell_type": "code",
   "execution_count": 34,
   "id": "7eec244a-9410-4a1e-a443-ff4cf10c6904",
   "metadata": {},
   "outputs": [],
   "source": [
    "def solver_forcadeinercia(\n",
    "    v=1,\n",
    "    FM = sym.Symbol('FM'),\n",
    "    CM = sym.Symbol('CM'),\n",
    "    rho = sym.Symbol('𝜌'),\n",
    "    g = sym.Symbol('g'),\n",
    "    D = sym.Symbol('D'),\n",
    "    H = sym.Symbol('H'),\n",
    "    T = sym.Symbol('T'),\n",
    "    L = sym.Symbol('L'),\n",
    "    k = sym.Symbol('k'),\n",
    "    z = sym.Symbol('z'),\n",
    "    t = sym.Symbol('t'),\n",
    "    h = sym.Symbol('h')):\n",
    "    return(sym.solvers.nsolve(\n",
    "        ( CM*rho*g*(sym.pi*(D**2)/4)*H* \n",
    "        ( (sym.pi/L) * ((sym.cosh(k*(z+h)))/(sym.cosh(k*h))) ) *\n",
    "        sym.sin(-2*sym.pi*t/T)) - FM\n",
    "        , v\n",
    "    ))\n",
    "\n",
    "def solver_forcadeinerciamax(\n",
    "    v=1,\n",
    "    FM = sym.Symbol('FM'),\n",
    "    CM = sym.Symbol('CM'),\n",
    "    rho = sym.Symbol('𝜌'),\n",
    "    g = sym.Symbol('g'),\n",
    "    D = sym.Symbol('D'),\n",
    "    H = sym.Symbol('H'),\n",
    "    T = sym.Symbol('T'),\n",
    "    L = sym.Symbol('L'),\n",
    "    k = sym.Symbol('k'),\n",
    "    z = sym.Symbol('z'),\n",
    "    h = sym.Symbol('h')):\n",
    "    return(sym.solvers.nsolve(\n",
    "        ( CM*rho*g*(sym.pi*(D**2)/4)*H* \n",
    "        ( (sym.pi/L) * ((sym.cosh(k*(z+h)))/(sym.cosh(k*h))) ) - FM)\n",
    "        , v\n",
    "    ))"
   ]
  },
  {
   "cell_type": "markdown",
   "id": "45b92220-ed67-458c-a468-72e91349a2b2",
   "metadata": {},
   "source": [
    "## Plotagem"
   ]
  },
  {
   "cell_type": "code",
   "execution_count": 38,
   "id": "d4457984-cda2-4b88-88d1-87d5b68068fc",
   "metadata": {},
   "outputs": [
    {
     "name": "stdout",
     "output_type": "stream",
     "text": [
      "[49.5710398373984, -240.0, 49.9137200370763, -230.0, 50.2605902830810, -220.0, 50.6116956551579, -210.0, 50.9670817834552, -200.0, 51.3267948544545, -190.0, 51.6908816169727, -180.0, 52.0593893882378, -170.0, 52.4323660600386, -160.0, 52.8098601049483, -150.0, 53.1919205826242, -140.0, 53.5785971461837, -130.0, 53.9699400486574, -120.0, 54.3660001495195, -110.0, 54.7668289212983, -100.0, 55.1724784562651, -90.0, 55.5830014732044, -80.0, 55.9984513242652, -70.0, 56.4188820018950, -60.0, 56.8443481458564, -50.0, 57.2749050503282, -40.0, 57.7106086710918, -30.0, 58.1515156328030, -20.0, 58.5976832363511, -10.0, 59.0491694663057, 0.0, 59.5060329984528, 10.0, 59.9683332074201, 20.0, 60.4361301743934, 30.0, 60.9094846949249, 40.0, 61.3884582868344, 50.0, 61.8731131982040, 60.0, 62.3635124154681, 70.0, 62.8597196715992, 80.0, 63.3617994543907, 90.0, 63.8698170148379, 100.0, 64.3838383756179, 110.0, 64.9039303396703, 120.0, 65.4301604988787, 130.0, 65.9625972428553, 140.0, 66.5013097678286, 150.0, 67.0463680856367, 160.0, 67.5978430328258, 170.0, 68.1558062798560, 180.0, 68.7203303404164, 190.0, 69.2914885808484, 200.0, 69.8693552296808, 210.0, 70.4540053872767, 220.0, 71.0455150355932, 230.0, 71.6439610480571, 240.0, 72.2494211995541, 250.0, 72.8619741765380, 260.0, 73.4816995872557, 270.0, 74.1086779720937, 280.0, 74.7429908140455, 290.0, 75.3847205493008, 300.0, 76.0339505779592, 310.0, 76.6907652748690, 320.0, 77.3552500005925, 330.0, 78.0274911125002, 340.0, 78.7075759759930, 350.0, 79.3955929758569, 360.0, 80.0916315277497, 370.0, 80.7957820898212, 380.0, 81.5081361744695, 390.0, 82.2287863602340, 400.0, 82.9578263038273, 410.0, 83.6953507523065, 420.0, 84.4414555553870, 430.0, 85.1962376778990, 440.0, 85.9597952123895, 450.0, 86.7322273918706, 460.0, 87.5136346027152, 470.0, 88.3041183977046, 480.0, 89.1037815092250, 490.0, 89.9127278626200, 500.0, 90.7310625896964, 510.0, 91.5588920423871, 520.0, 92.3963238065727, 530.0, 93.2434667160641, 540.0, 94.1004308667462, 550.0, 94.9673276308860, 560.0, 95.8442696716073, 570.0, 96.7313709575318, 580.0, 97.6287467775913, 590.0, 98.5365137560104, 600.0, 99.4547898674632, 610.0, 100.383694452406, 620.0, 101.323348232585, 630.0, 102.273873326729, 640.0, 103.235393266417, 650.0, 104.208033012134, 660.0, 105.191918969509, 670.0, 106.187179005746, 680.0, 107.193942466242, 690.0, 108.212340191392, 700.0, 109.242504533597, 710.0, 110.284569374466, 720.0, 111.338670142212, 730.0, 112.404943829254, 740.0, 113.483529010022, 750.0, 114.574565858963, 760.0, 115.678196168763, 770.0, 116.794563368769, 780.0, 117.923812543634, 790.0, 119.066090452171, 800.0, 120.221545546424, 810.0, 121.390327990963, 820.0, 122.572589682400, 830.0, 123.768484269128, 840.0, 124.978167171291, 850.0, 126.201795600981, 860.0, 127.439528582673, 870.0, 128.691526973884, 880.0, 129.957953486090, 890.0, 131.238972705862, 900.0, 132.534751116260, 910.0, 133.845457118472, 920.0, 135.171261053692, 930.0, 136.512335225268, 940.0, 137.868853921085, 950.0, 139.240993436223, 960.0, 140.628932095865, 970.0, 142.032850278472, 980.0, 143.452930439227, 990.0, 144.889357133746, 1000.0, 146.342317042065, 1010.0, 147.811998992899, 1020.0, 149.298593988181, 1030.0, 150.802295227890, 1040.0, 152.323298135156, 1050.0, 153.861800381657, 1060.0, 155.418001913310, 1070.0, 156.992104976257, 1080.0, 158.584314143148, 1090.0, 160.194836339726, 1100.0, 161.823880871723, 1110.0, 163.471659452060, 1120.0, 165.138386228360, 1130.0, 166.824277810780, 1140.0, 168.529553300164, 1150.0, 170.254434316513, 1160.0, 171.999145027794, 1170.0, 173.763912179065, 1180.0, 175.548965121950, 1190.0, 177.354535844441, 1200.0, 179.180859001050, 1210.0, 181.028171943306, 1220.0, 182.896714750599, 1230.0, 184.786730261381, 1240.0, 186.698464104729, 1250.0]\n"
     ]
    },
    {
     "ename": "TypeError",
     "evalue": "__init__() missing 1 required positional argument: 'sy'",
     "output_type": "error",
     "traceback": [
      "\u001b[1;31m---------------------------------------------------------------------------\u001b[0m",
      "\u001b[1;31mTypeError\u001b[0m                                 Traceback (most recent call last)",
      "Input \u001b[1;32mIn [38]\u001b[0m, in \u001b[0;36m<cell line: 48>\u001b[1;34m()\u001b[0m\n\u001b[0;32m     45\u001b[0m     loads\u001b[38;5;241m.\u001b[39mappend( \u001b[38;5;241m10\u001b[39m\u001b[38;5;241m*\u001b[39mi \u001b[38;5;241m+\u001b[39m ((\u001b[38;5;241m-\u001b[39maltura\u001b[38;5;241m/\u001b[39m\u001b[38;5;241m2\u001b[39m)\u001b[38;5;241m+\u001b[39m \u001b[38;5;241m10\u001b[39m) ) \u001b[38;5;66;03m# Vai ser o Y\u001b[39;00m\n\u001b[0;32m     47\u001b[0m \u001b[38;5;28mprint\u001b[39m(loads)\n\u001b[1;32m---> 48\u001b[0m carregamento \u001b[38;5;241m=\u001b[39m \u001b[43mdraw\u001b[49m\u001b[38;5;241;43m.\u001b[39;49m\u001b[43mLines\u001b[49m\u001b[43m(\u001b[49m\n\u001b[0;32m     49\u001b[0m \u001b[43m    \u001b[49m\u001b[38;5;28;43mtuple\u001b[39;49m\u001b[43m(\u001b[49m\u001b[43mloads\u001b[49m\u001b[43m)\u001b[49m\u001b[43m,\u001b[49m\n\u001b[0;32m     50\u001b[0m \u001b[43m    \u001b[49m\u001b[43mclose\u001b[49m\u001b[38;5;241;43m=\u001b[39;49m\u001b[38;5;28;43;01mTrue\u001b[39;49;00m\u001b[43m,\u001b[49m\n\u001b[0;32m     51\u001b[0m \u001b[43m    \u001b[49m\u001b[43mfill\u001b[49m\u001b[38;5;241;43m=\u001b[39;49m\u001b[38;5;124;43m'\u001b[39;49m\u001b[38;5;124;43mred\u001b[39;49m\u001b[38;5;124;43m'\u001b[39;49m\u001b[43m,\u001b[49m\n\u001b[0;32m     52\u001b[0m \u001b[43m    \u001b[49m\u001b[43mstroke\u001b[49m\u001b[38;5;241;43m=\u001b[39;49m\u001b[38;5;124;43m'\u001b[39;49m\u001b[38;5;124;43mblack\u001b[39;49m\u001b[38;5;124;43m'\u001b[39;49m\n\u001b[0;32m     53\u001b[0m \u001b[43m)\u001b[49m\n\u001b[0;32m     54\u001b[0m d\u001b[38;5;241m.\u001b[39mappend(estaca)\n\u001b[0;32m     55\u001b[0m d\u001b[38;5;241m.\u001b[39mappend(solo)\n",
      "\u001b[1;31mTypeError\u001b[0m: __init__() missing 1 required positional argument: 'sy'"
     ]
    }
   ],
   "source": [
    "# Instalar o drawSvg e o pycairo\n",
    "import drawSvg as draw\n",
    "largura = 300\n",
    "altura = 500\n",
    "d = draw.Drawing(largura, altura, origin='center', displayInline=False)\n",
    "\n",
    "D = 1.3 * 10\n",
    "h = 15 * 10\n",
    "\n",
    "# Draw an irregular polygon\n",
    "\n",
    "solo = draw.Lines(\n",
    "    (-largura/2), ((-altura/2)+ 10), # Base da estaca\n",
    "    (largura/2), ((-altura/2)+ 10),\n",
    "    (largura/2), (-altura/2),\n",
    "    (-largura/2), (-altura/2),\n",
    "    close=True,\n",
    "    fill='#eeee00',\n",
    "    stroke='black'\n",
    ")\n",
    "estaca = draw.Lines(\n",
    "    (-D/2), ((-altura/2)+ 10), # Base esquerda da estaca\n",
    "    (D/2), ((-altura/2)+ 10), # Base direita da estaca\n",
    "    (D/2), (h+ ((-altura/2)+ 10)), # Topo direito da estaca\n",
    "    (-D/2), (h+ ((-altura/2)+ 10)), # Topo esquerdo da estaca\n",
    "    close=True,\n",
    "    fill='white',\n",
    "    stroke='black'\n",
    ")\n",
    "loads = []\n",
    "for i in range(h):\n",
    "    carga_ponto = solver_forcadearrastemax(\n",
    "        CD = 1.05,\n",
    "        rho = 1025,\n",
    "        g = 9.81,\n",
    "        D = 1.3,\n",
    "        H = 5.6,\n",
    "        T = 10,\n",
    "        L = 110.7,\n",
    "        k = 0.057,\n",
    "        z = i/10,\n",
    "        h = 15\n",
    "    )\n",
    "    loads.append( (carga_ponto/100) + (D/2) ) # X\n",
    "    loads.append( 10*i + ((-altura/2)+ 10) ) # Vai ser o Y\n",
    "\n",
    "print(loads)\n",
    "carregamento = draw.Lines(\n",
    "    tuple(loads),\n",
    "    close=True,\n",
    "    fill='red',\n",
    "    stroke='black'\n",
    ")\n",
    "d.append(estaca)\n",
    "d.append(solo)\n",
    "d.append(loads)\n",
    "d.setPixelScale(1)\n",
    "d"
   ]
  },
  {
   "cell_type": "markdown",
   "id": "63bf864a-6458-4f14-98f6-67c31d51c860",
   "metadata": {},
   "source": [
    "## Exemplo"
   ]
  },
  {
   "cell_type": "code",
   "execution_count": 3,
   "id": "d292d700-7651-43ff-8295-2a2f10ceeb96",
   "metadata": {
    "tags": []
   },
   "outputs": [
    {
     "name": "stdout",
     "output_type": "stream",
     "text": [
      "Força de Arraste: \n",
      "2650.52552845528\n",
      "Força de Inércia: \n",
      "-1124.55588493266\n",
      "Força de Arraste Max: \n",
      "2650.52552845528\n",
      "Força de Inércia Max: \n",
      "1124.55588493266\n"
     ]
    }
   ],
   "source": [
    "print('Força de Arraste: ')\n",
    "print( solver_forcadearraste(\n",
    "    CD = 1.05,\n",
    "    rho = 1025,\n",
    "    g = 9.81,\n",
    "    D = 0.8,\n",
    "    H = 5.6,\n",
    "    T = 10,\n",
    "    L = 110.7,\n",
    "    k = 0.057,\n",
    "    z = 0,\n",
    "    t = 0,\n",
    "    h = 15.61\n",
    ") )\n",
    "\n",
    "print('Força de Inércia: ')\n",
    "print( solver_forcadeinercia(\n",
    "    CM = 1.4,\n",
    "    rho = 1025,\n",
    "    g = 9.81,\n",
    "    D = 0.8,\n",
    "    H = 5.6,\n",
    "    T = 10,\n",
    "    L = 110.7,\n",
    "    k = 0.057,\n",
    "    z = 0,\n",
    "    t = 2.5,\n",
    "    h = 15.61\n",
    ") )\n",
    "\n",
    "print('Força de Arraste Max: ')\n",
    "print( solver_forcadearrastemax(\n",
    "    CD = 1.05,\n",
    "    rho = 1025,\n",
    "    g = 9.81,\n",
    "    D = 0.8,\n",
    "    H = 5.6,\n",
    "    T = 10,\n",
    "    L = 110.7,\n",
    "    k = 0.057,\n",
    "    z = 0,\n",
    "    h = 15.61\n",
    ") )\n",
    "\n",
    "print('Força de Inércia Max: ')\n",
    "print( solver_forcadeinerciamax(\n",
    "    CM = 1.4,\n",
    "    rho = 1025,\n",
    "    g = 9.81,\n",
    "    D = 0.8,\n",
    "    H = 5.6,\n",
    "    T = 10,\n",
    "    L = 110.7,\n",
    "    k = 0.057,\n",
    "    z = 0,\n",
    "    h = 15.61\n",
    ") )"
   ]
  },
  {
   "cell_type": "code",
   "execution_count": 4,
   "id": "55a140da-c0d2-40a4-affe-6751e4d7d382",
   "metadata": {},
   "outputs": [
    {
     "data": {
      "text/plain": [
       "[<matplotlib.lines.Line2D at 0x2382348ba00>]"
      ]
     },
     "execution_count": 4,
     "metadata": {},
     "output_type": "execute_result"
    },
    {
     "data": {
      "image/png": "[encoded data removed]",
      "text/plain": [
       "<Figure size 432x288 with 1 Axes>"
      ]
     },
     "metadata": {
      "needs_background": "light"
     },
     "output_type": "display_data"
    }
   ],
   "source": [
    "import matplotlib.pyplot as plt\n",
    "forca = []\n",
    "for i in range (0, 1561):\n",
    "    forca.append(solver_forcadearrastemax(\n",
    "    CD = 1.05,\n",
    "    rho = 1025,\n",
    "    g = 9.81,\n",
    "    D = 0.8,\n",
    "    H = 5.6,\n",
    "    T = 10,\n",
    "    L = 110.7,\n",
    "    k = 0.057,\n",
    "    z = i/100,\n",
    "    h = 15.61\n",
    "))\n",
    "\n",
    "plt.plot(forca)"
   ]
  },
  {
   "cell_type": "code",
   "execution_count": null,
   "id": "65dc0a4d-fe81-4a1d-8028-a2d426f78308",
   "metadata": {},
   "outputs": [],
   "source": []
  }
 ],
 "metadata": {
  "kernelspec": {
   "display_name": "Python 3 (ipykernel)",
   "language": "python",
   "name": "python3"
  },
  "language_info": {
   "codemirror_mode": {
    "name": "ipython",
    "version": 3
   },
   "file_extension": ".py",
   "mimetype": "text/x-python",
   "name": "python",
   "nbconvert_exporter": "python",
   "pygments_lexer": "ipython3",
   "version": "3.9.12"
  }
 },
 "nbformat": 4,
 "nbformat_minor": 5
}
